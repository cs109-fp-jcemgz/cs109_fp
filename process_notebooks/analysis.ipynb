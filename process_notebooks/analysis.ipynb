{
 "cells": [
  {
   "cell_type": "markdown",
   "metadata": {},
   "source": [
    "# Sentiment Analysis"
   ]
  },
  {
   "cell_type": "markdown",
   "metadata": {},
   "source": [
    "Intro goes here"
   ]
  },
  {
   "cell_type": "markdown",
   "metadata": {},
   "source": [
    "# Table of Contents\n",
    "* [Sentiment Analysis on FOMC Statements](#Sentiment-Analysis)\n",
    "\t* [Part 1: Preparations and Topic Analysis](#Q1-Predicting-Elections-from-Samples)\n",
    "\t\t* [1.1 Natural Language Processing](#Natural-Language-Processing)\n",
    "\t\t* [1.2 Topic Extraction](#Topic-Extraction)\n",
    "    * [Part 2: Naive Bayes Classification](#Part-2:-Naive-Bayes-Approach)\n",
    "        * [2.1 First Approach: Training a Naive Bayes Classifier](#2.1:-First-Approach:-Training-a-Naive-Bayes-Classifier)\n",
    "        * [2.2 Finding the most important features](#2.2:-Most-important-features)\n",
    "    * [Part 3: Second Approach: Using the Loughran-McDonald Financial Dictionary](#Part-3:-Second-Approach:-Using-the-Loughran-McDonald-Financial-Dictionary)\n",
    "        * [3.1: Adjusting the dictionary for our needs](#3.1:-Adjusting-the-dictionary-for-our-needs)\n",
    "        * [3.2: Most positive and most negative sentences](#3.2:-Most-positive-and-most-negative-sentences)\n",
    "        * [3.3: Classification using new probabilities](#3.3:-Classification-using-new-probabilities)\n",
    "    * [Part 4: \"Directional Policy\": Lengths of Statements and Federal Reserve Policy](#Part-4:-\"Directional-Policy\":-Lengths-of-Statements-and-Federal-Reserve-Policy)\n",
    "        * [4.1: Regressing outcome against length](#4.1:-Regressing-outcome-against-length)\n",
    "        * [4.2: Commentary](#4.2: Commentary)\n",
    "    * [Part 5: Ensemble method](#Part-5:-Ensemble-method)\n",
    "    * [Part 6: Conclusion](#Part-6:-Conclusion)\n",
    "        * [6.1: Results](#6.1:-Results)\n",
    "        * [6.2: Evaluation](#6.2:-Evaluation)\n",
    "\t\t\t\n",
    " "
   ]
  },
  {
   "cell_type": "code",
   "execution_count": 1,
   "metadata": {
    "collapsed": true
   },
   "outputs": [],
   "source": [
    "%matplotlib inline\n",
    "import numpy as np\n",
    "import scipy as sp\n",
    "import matplotlib as mpl\n",
    "import matplotlib.pyplot as plt\n",
    "import pandas as pd\n",
    "import seaborn as sns\n",
    "import json\n",
    "from pyquery import PyQuery as pq"
   ]
  },
  {
   "cell_type": "markdown",
   "metadata": {},
   "source": [
    "# Part 1: Preparations and Topic Extraction"
   ]
  },
  {
   "cell_type": "markdown",
   "metadata": {},
   "source": [
    "### Natural Language Processing\n",
    "\n",
    "We begin by parsing the text and pre-processing it to prepare it for Latent Dirichlet Analysis. This step is meant to remove stopwords and identify nouns and adjectives."
   ]
  },
  {
   "cell_type": "code",
   "execution_count": 2,
   "metadata": {
    "collapsed": true
   },
   "outputs": [],
   "source": [
    "from pattern.en import parse\n",
    "from pattern.en import pprint\n",
    "from pattern.vector import stem, PORTER, LEMMA\n",
    "punctuation = list('.,;:!?()[]{}`''\\\"@#$^&*+-|=~_')"
   ]
  },
  {
   "cell_type": "code",
   "execution_count": 3,
   "metadata": {
    "collapsed": true
   },
   "outputs": [],
   "source": [
    "from sklearn.feature_extraction import text \n",
    "stopwords=text.ENGLISH_STOP_WORDS"
   ]
  },
  {
   "cell_type": "markdown",
   "metadata": {},
   "source": [
    "The FOMC statements are full of phrases like \"growth is expected to continue--given the current data--at a moderate pace\". The two hyphens should be treated as a space."
   ]
  },
  {
   "cell_type": "code",
   "execution_count": 4,
   "metadata": {
    "collapsed": true
   },
   "outputs": [],
   "source": [
    "import re\n",
    "regex1=re.compile(r\"\\-{2,}\")"
   ]
  },
  {
   "cell_type": "markdown",
   "metadata": {},
   "source": [
    "We now define a function to find the nouns and adjectives of the text. The function returns a tuple where the first element is a list of lists, where each list includes the nouns from a sentence. The second element is a list of lists, where each list includes the adjectives from a sentence."
   ]
  },
  {
   "cell_type": "code",
   "execution_count": 5,
   "metadata": {
    "collapsed": false
   },
   "outputs": [],
   "source": [
    "def modified_get_parts(thetext):\n",
    "    thetext=re.sub(regex1, ', ', thetext)\n",
    "    nouns=[]\n",
    "    descriptives=[]\n",
    "    for i,sentence in enumerate(parse(thetext, tokenize=True, lemmata=True).split()):\n",
    "        \n",
    "        # Skip the first three sentences that include the HTML\n",
    "        nouns.append([])\n",
    "        descriptives.append([])\n",
    "            \n",
    "        for token in sentence:\n",
    "            if len(token[4]) >0:\n",
    "                if token[1] in ['JJ', 'JJR', 'JJS']:\n",
    "                    if (token[4] in stopwords or \n",
    "                        token[4][0] in punctuation or \n",
    "                        token[4][-1] in punctuation or \n",
    "                        len(token[4])==1):\n",
    "                        continue\n",
    "            \n",
    "                    descriptives[i].append(token[4])\n",
    "                elif token[1] in ['NN', 'NNS']:\n",
    "                    if (token[4] in stopwords or \n",
    "                    token[4][0] in punctuation or \n",
    "                    token[4][-1] in punctuation or \n",
    "                    len(token[4])==1):\n",
    "                        continue\n",
    "                    nouns[i].append(token[4])\n",
    "    out=zip(nouns, descriptives)\n",
    "    nouns2=[]\n",
    "    descriptives2=[]\n",
    "    for n,d in out:\n",
    "        if len(n)!=0 and len(d)!=0:\n",
    "            nouns2.append(n)\n",
    "            descriptives2.append(d)\n",
    "    return nouns2[1:], descriptives2[1:]"
   ]
  },
  {
   "cell_type": "markdown",
   "metadata": {},
   "source": [
    "We load in the fomc_mins_all dictionary that we created in the Scraping.ipynb iPython Notebook."
   ]
  },
  {
   "cell_type": "code",
   "execution_count": 7,
   "metadata": {
    "collapsed": false
   },
   "outputs": [],
   "source": [
    "with open(\"../data/fomc_mins_all.json\", \"rb\") as infile:\n",
    "    fomc_mins = json.load(infile)"
   ]
  },
  {
   "cell_type": "markdown",
   "metadata": {},
   "source": [
    "We can now check how our modified_get_parts function would deal with a sample FOMC statement, printing out the first two noun lists."
   ]
  },
  {
   "cell_type": "code",
   "execution_count": 8,
   "metadata": {
    "collapsed": false,
    "scrolled": true
   },
   "outputs": [
    {
     "data": {
      "text/plain": [
       "[[u'buildmenu',\n",
       "  u'policy',\n",
       "  u'minute',\n",
       "  u'meeting',\n",
       "  u'office',\n",
       "  u'governor',\n",
       "  u'present',\n",
       "  u'member',\n",
       "  u'president',\n",
       "  u'economist',\n",
       "  u'dev'],\n",
       " [u'governor',\n",
       "  u'governor',\n",
       "  u'adviser',\n",
       "  u'governor',\n",
       "  u'governor',\n",
       "  u'governor',\n",
       "  u'merten',\n",
       "  u'interval',\n",
       "  u'meeting',\n",
       "  u'subcommittee',\n",
       "  u'communication',\n",
       "  u'issue']]"
      ]
     },
     "execution_count": 8,
     "metadata": {},
     "output_type": "execute_result"
    }
   ],
   "source": [
    "modified_get_parts(pq(fomc_mins['20140730']).text())[0][:2]"
   ]
  },
  {
   "cell_type": "markdown",
   "metadata": {},
   "source": [
    "We run modified_get_parts on each fomc statement and create a new dictionary fomc_parts. We strip each statement of the html at its start before passing it to modified_get_parts."
   ]
  },
  {
   "cell_type": "code",
   "execution_count": 9,
   "metadata": {
    "collapsed": false
   },
   "outputs": [
    {
     "name": "stdout",
     "output_type": "stream",
     "text": [
      "Wall time: 2min 13s\n"
     ]
    }
   ],
   "source": [
    "%%time\n",
    "fomc_parts = {}\n",
    "for key in fomc_mins.keys():\n",
    "    fomc_parts[key] = modified_get_parts(pq(fomc_mins[key]).text())"
   ]
  },
  {
   "cell_type": "code",
   "execution_count": 10,
   "metadata": {
    "collapsed": false
   },
   "outputs": [],
   "source": [
    "fomc_parts_file = open(\"../data/fomc_parts.json\", \"wb\")\n",
    "json.dump(fomc_parts, fomc_parts_file)\n",
    "fomc_parts_file.close()"
   ]
  },
  {
   "cell_type": "markdown",
   "metadata": {},
   "source": [
    "We can now create two lists, a list of nouns for each sentence, and a flattened list of all the nouns which we will create to produce a dictionary (needed as an argument for the LDA function)."
   ]
  },
  {
   "cell_type": "code",
   "execution_count": 11,
   "metadata": {
    "collapsed": false
   },
   "outputs": [],
   "source": [
    "nvocab = []\n",
    "for key in fomc_mins.keys():\n",
    "    nouns = fomc_parts[key][0]\n",
    "    for nounlist in nouns:\n",
    "        nvocab.append(nounlist)\n",
    "\n",
    "flattenednvocab = []\n",
    "for key in fomc_mins.keys():\n",
    "    nouns = fomc_parts[key][0]\n",
    "    for nounlist in nouns:\n",
    "        for n in nounlist:\n",
    "            flattenednvocab.append(n)"
   ]
  },
  {
   "cell_type": "code",
   "execution_count": 12,
   "metadata": {
    "collapsed": false
   },
   "outputs": [],
   "source": [
    "from collections import Counter\n",
    "frequency = Counter(flattenednvocab)"
   ]
  },
  {
   "cell_type": "code",
   "execution_count": 13,
   "metadata": {
    "collapsed": false
   },
   "outputs": [],
   "source": [
    "id2word = {}; vocab = {}\n",
    "for i,word in enumerate(frequency.keys()):\n",
    "    vocab[word] = i \n",
    "    id2word[i] = word"
   ]
  },
  {
   "cell_type": "code",
   "execution_count": 14,
   "metadata": {
    "collapsed": false
   },
   "outputs": [
    {
     "data": {
      "text/plain": [
       "2759"
      ]
     },
     "execution_count": 14,
     "metadata": {},
     "output_type": "execute_result"
    }
   ],
   "source": [
    "len(vocab.keys())"
   ]
  },
  {
   "cell_type": "code",
   "execution_count": 15,
   "metadata": {
    "collapsed": false
   },
   "outputs": [],
   "source": [
    "from collections import defaultdict\n",
    "def sentencelist(sentence):\n",
    "    d = defaultdict(int); group = []\n",
    "    for word in sentence:\n",
    "        word_id = vocab[word] \n",
    "        d[word_id] += 1 \n",
    "    group = [(a, d[a]) for a in d.keys()]\n",
    "    return group\n",
    "corpus = [sentencelist(sentence) for sentence in nvocab]"
   ]
  },
  {
   "cell_type": "markdown",
   "metadata": {},
   "source": [
    "## Topic Extraction"
   ]
  },
  {
   "cell_type": "code",
   "execution_count": 16,
   "metadata": {
    "collapsed": true
   },
   "outputs": [],
   "source": [
    "import gensim"
   ]
  },
  {
   "cell_type": "code",
   "execution_count": 20,
   "metadata": {
    "collapsed": false
   },
   "outputs": [],
   "source": [
    "# We found that using 3 topics was ideal for topic differentiation\n",
    "lda2 = gensim.models.ldamodel.LdaModel(corpus, num_topics=3, id2word = id2word, update_every=1, chunksize=300)"
   ]
  },
  {
   "cell_type": "code",
   "execution_count": 21,
   "metadata": {
    "collapsed": false
   },
   "outputs": [
    {
     "data": {
      "text/plain": [
       "[(0,\n",
       "  u'0.077*policy + 0.036*member + 0.032*business + 0.026*meeting + 0.021*sale + 0.020*outlook + 0.020*discussion + 0.017*investment + 0.015*information + 0.014*statement'),\n",
       " (1,\n",
       "  u'0.068*market + 0.061*rate + 0.040*participant + 0.029*condition + 0.028*fund + 0.025*period + 0.021*percent + 0.019*range + 0.019*security + 0.015*objective'),\n",
       " (2,\n",
       "  u'0.061*inflation + 0.049*price + 0.037*growth + 0.026*quarter + 0.025*year + 0.023*increase + 0.023*pace + 0.022*consumer + 0.020*month + 0.019*labor')]"
      ]
     },
     "execution_count": 21,
     "metadata": {},
     "output_type": "execute_result"
    }
   ],
   "source": [
    "lda2.print_topics()"
   ]
  },
  {
   "cell_type": "code",
   "execution_count": 22,
   "metadata": {
    "collapsed": false,
    "scrolled": true
   },
   "outputs": [
    {
     "name": "stdout",
     "output_type": "stream",
     "text": [
      "[(2552, 1)]\n",
      "[(0, 0.66114129645326436), (1, 0.16666775219058128), (2, 0.17219095135615431)]\n",
      "member\n",
      "==========================================\n",
      "[(640, 1), (1600, 1), (2356, 1), (2463, 1)]\n",
      "[(0, 0.66764801384407035), (1, 0.26567445244797694), (2, 0.066677533707952721)]\n",
      "dealer issue bid ability\n",
      "==========================================\n",
      "[(135, 1), (1493, 1), (2575, 1)]\n",
      "[(0, 0.46489675612167169), (1, 0.45176770623426538), (2, 0.083335537644062957)]\n",
      "currency paragraph transaction\n",
      "==========================================\n",
      "[(1040, 1), (834, 1), (164, 1), (141, 1), (2134, 1)]\n",
      "[(0, 0.26179487531122031), (1, 0.68071667913613776), (2, 0.057488445552641876)]\n",
      "sale spot purchase end exchange\n",
      "==========================================\n",
      "[(2584, 1), (524, 1), (13, 1), (1590, 1)]\n",
      "[(0, 0.066681016155706846), (1, 0.86664528914737304), (2, 0.066673694696920111)]\n",
      "drawing character swap operation\n",
      "==========================================\n",
      "[(675, 2), (389, 1), (106, 1), (1771, 1), (1712, 1), (20, 1), (1399, 1), (2552, 1), (69, 1)]\n",
      "[(0, 0.7679572572387322), (1, 0.20026796284879375), (2, 0.031774779912474078)]\n",
      "time approach assessment announcement wording risk condition member balance\n",
      "==========================================\n",
      "[(892, 1), (905, 1), (779, 1), (844, 1), (915, 1), (2254, 1), (2643, 1), (1228, 1), (2617, 1), (924, 1)]\n",
      "[(0, 0.030361675086139805), (1, 0.45942163926543833), (2, 0.51021668564842182)]\n",
      "half quarter market recovery year labor employment improvement loss increase\n",
      "==========================================\n",
      "[(2050, 1)]\n",
      "[(0, 0.16667106597536943), (1, 0.17758546736758882), (2, 0.65574346665704175)]\n",
      "income\n",
      "==========================================\n",
      "[(1040, 1), (1476, 1), (924, 1), (1062, 1), (616, 1)]\n",
      "[(0, 0.22025822701984876), (1, 0.22541106664630928), (2, 0.55433070633384196)]\n",
      "sale book-value increase ratio lows\n",
      "==========================================\n",
      "[(879, 1), (944, 1), (1138, 1), (2357, 1), (1243, 1), (1085, 1)]\n",
      "[(0, 0.41855666407876491), (1, 0.053991377168359889), (2, 0.52745195875287532)]\n",
      "policy accommodation period slack inflation resource\n",
      "==========================================\n",
      "[(2050, 1), (2563, 1), (2500, 1), (133, 1), (1521, 1), (2120, 2), (1672, 1), (779, 1), (2637, 1), (2254, 1), (1425, 1), (2371, 1), (2548, 1), (1998, 2), (1399, 2), (633, 1), (922, 1), (1256, 1)]\n",
      "[(0, 0.35909406585909481), (1, 0.21204259509557791), (2, 0.42886333904532736)]\n",
      "income effect addition household response business financing market growth labor investment acceleration productivity spending condition strengthening profit output\n",
      "==========================================\n",
      "[(1632, 1), (740, 1), (2552, 1), (2120, 2), (2680, 1), (1291, 1), (1869, 1), (1998, 1), (888, 1), (1941, 1), (1943, 1), (824, 1), (1021, 1), (2174, 1), (479, 1)]\n",
      "[(0, 0.48760774198497964), (1, 0.021289664326387705), (2, 0.49110259368863268)]\n",
      "number sign member business software industry development spending nation indication softness discussion equipment confidence inventory\n",
      "==========================================\n",
      "[(2563, 1), (1032, 1), (1299, 1), (2189, 1), (1998, 1), (781, 1), (336, 1), (131, 1), (879, 1), (2174, 1)]\n",
      "[(0, 0.35100990979258007), (1, 0.24253951493320089), (2, 0.40645057527421907)]\n",
      "effect price outlook equity spending wealth consumer estate policy confidence\n",
      "==========================================\n",
      "[(2001, 1), (2442, 1), (1004, 1)]\n",
      "[(0, 0.39282897852102772), (1, 0.09060366037275519), (2, 0.51656736110621704)]\n",
      "disinflation view prospect\n",
      "==========================================\n",
      "[(1632, 1), (1712, 1), (1604, 1), (999, 1), (779, 2), (879, 1), (944, 1), (1076, 1), (118, 1), (2552, 1), (2713, 1), (763, 1), (20, 1)]\n",
      "[(0, 0.51748040541106788), (1, 0.41905607520500593), (2, 0.063463519383926068)]\n",
      "number wording circumstance future market policy accommodation expectation room member valuation change risk\n",
      "==========================================\n",
      "[(965, 1), (2575, 1)]\n",
      "[(0, 0.77254139167587266), (1, 0.11634673005021916), (2, 0.11111187827390819)]\n",
      "vote transaction\n",
      "==========================================\n",
      "[(385, 1), (1419, 1), (2637, 1), (1138, 1), (23, 1), (570, 1), (923, 1), (189, 1)]\n",
      "[(0, 0.038241105747003082), (1, 0.091845220348376042), (2, 0.86991367390462093)]\n",
      "capacity rate growth period rise manufacturing factory production\n",
      "==========================================\n",
      "[(1564, 1), (1540, 1), (265, 1), (1038, 1), (1271, 1)]\n",
      "[(0, 0.055923072084341552), (1, 0.056747910605879325), (2, 0.8873290173097792)]\n",
      "good trade service average deficit\n",
      "==========================================\n",
      "[(1826, 1), (1419, 1), (779, 1), (2738, 1), (1138, 1), (1590, 1)]\n",
      "[(0, 0.0480216227442768), (1, 0.90397579169051789), (2, 0.04800258556520532)]\n",
      "fund rate market percent period operation\n",
      "==========================================\n",
      "[(2563, 1), (1831, 1), (1032, 1), (2695, 1), (2189, 1), (1998, 1), (781, 1), (336, 1), (2344, 1), (723, 1), (2170, 1), (2120, 1), (90, 1), (2223, 1), (924, 1), (1021, 1), (2637, 2)]\n",
      "[(0, 0.20268249176230113), (1, 0.15321119456407509), (2, 0.64410631367362381)]\n",
      "effect demand price housing equity spending wealth consumer durable item buildup business unit stock increase equipment growth\n",
      "==========================================\n",
      "[(1632, 1), (740, 1), (1831, 2), (1228, 1), (401, 1), (312, 1), (2552, 1), (570, 1), (412, 1)]\n",
      "[(0, 0.036844397025485705), (1, 0.046733293508557767), (2, 0.91642230946595649)]\n",
      "number sign demand improvement extent strength member manufacturing country\n",
      "==========================================\n",
      "[(1314, 1), (1383, 1), (968, 1), (2314, 1), (2701, 1), (2552, 1), (1657, 1)]\n",
      "[(0, 0.90622773691679448), (1, 0.04233195988414043), (2, 0.051440303199065097)]\n",
      "area apartment city activity building member oversupply\n",
      "==========================================\n",
      "[(128, 1), (1665, 1), (1794, 1), (1731, 1), (2500, 1), (2245, 1), (1032, 1), (1583, 1), (2563, 1), (1076, 1), (2359, 1), (1304, 1), (1243, 1), (924, 1), (1375, 1)]\n",
      "[(0, 0.030815421202330787), (1, 0.16644561089126642), (2, 0.80273896790640287)]\n",
      "example appreciation supply factor addition reversal price energy effect expectation compensation dissipation inflation increase dollar\n",
      "==========================================\n",
      "[(2082, 1), (2121, 1), (2506, 1), (1262, 1), (879, 1), (1138, 1), (2552, 1), (959, 1)]\n",
      "[(0, 0.92334502383880102), (1, 0.039196963408915535), (2, 0.037458012752283443)]\n",
      "adjustment directive proposal respect policy period member symmetry\n",
      "==========================================\n",
      "[(225, 1), (135, 2), (873, 1), (1930, 1), (779, 1), (2286, 1), (2543, 1), (1138, 1), (2134, 1), (1665, 1), (1721, 1), (2523, 1), (1375, 1)]\n",
      "[(0, 0.022604024922332756), (1, 0.95384859763294472), (2, 0.023547377444722555)]\n",
      "trading currency group bit market subset partner period exchange appreciation relation value dollar\n",
      "==========================================\n",
      "[(965, 1), (2575, 1)]\n",
      "[(0, 0.77260056261198218), (1, 0.1162875595230695), (2, 0.11111187786494835)]\n",
      "vote transaction\n",
      "==========================================\n",
      "[(720, 1), (2640, 1), (90, 1), (1138, 1), (479, 1)]\n",
      "[(0, 0.3067550402050509), (1, 0.078146626792873528), (2, 0.61509833300207561)]\n",
      "level home unit period inventory\n",
      "==========================================\n",
      "[(1032, 1), (481, 1), (1243, 1), (1583, 1), (1839, 1)]\n",
      "[(0, 0.055562212368296539), (1, 0.055995909924289933), (2, 0.88844187770741356)]\n",
      "price rebound inflation energy pace\n",
      "==========================================\n",
      "[(225, 1), (135, 1), (873, 1), (779, 1), (2543, 1), (1138, 1), (2134, 1), (1721, 1), (2523, 1), (1375, 1)]\n",
      "[(0, 0.030453727905387837), (1, 0.93914970453966429), (2, 0.03039656755494792)]\n",
      "trading currency group market partner period exchange relation value dollar\n",
      "==========================================\n",
      "[(488, 1), (1585, 1), (2638, 1), (830, 1), (1831, 1)]\n",
      "[(0, 0.056088196785796803), (1, 0.056958571365947043), (2, 0.88695323184825614)]\n",
      "hand slowdown export economy demand\n",
      "==========================================\n",
      "[(164, 1), (840, 1), (1998, 1), (948, 1), (23, 1), (1849, 1), (763, 1)]\n",
      "[(0, 0.051903712058914267), (1, 0.4787231577955639), (2, 0.4693731301455219)]\n",
      "purchase date spending advance rise century change\n",
      "==========================================\n",
      "[(2552, 1), (1032, 1), (1243, 1), (924, 1), (939, 1)]\n",
      "[(0, 0.087968428989367617), (1, 0.058287580425424083), (2, 0.85374399058520833)]\n",
      "member price inflation increase possibility\n",
      "==========================================\n",
      "[(2240, 1), (1505, 1), (830, 2), (1869, 1), (1326, 1), (1840, 1), (1138, 1), (1299, 1), (533, 1), (2552, 1), (1243, 1), (636, 1), (414, 1)]\n",
      "[(0, 0.20761228755817632), (1, 0.1884985410792796), (2, 0.60388917136254416)]\n",
      "light information economy development regard behavior period outlook performance member inflation evidence uncertainty\n",
      "==========================================\n",
      "[(720, 1), (2708, 1)]\n",
      "[(0, 0.49741782347988067), (1, 0.14624355298726308), (2, 0.35633862353285628)]\n",
      "level construction\n",
      "==========================================\n",
      "[(1024, 1), (865, 1), (1826, 1), (1419, 1), (999, 1), (1032, 1), (779, 1), (2637, 1), (1038, 1), (2738, 1), (339, 1), (1399, 1)]\n",
      "[(0, 0.026089176367412863), (1, 0.94379516845706324), (2, 0.030115655175523913)]\n",
      "objective stability fund rate future price market growth average percent reserve condition\n",
      "==========================================\n",
      "[(898, 1), (999, 1), (1242, 1), (1590, 2), (1399, 1)]\n",
      "[(0, 0.16900904772023667), (1, 0.78305630273669946), (2, 0.047934649543063888)]\n",
      "term future test operation condition\n",
      "==========================================\n",
      "[(675, 1), (1607, 1), (1419, 1), (2738, 1), (1498, 1), (348, 1), (447, 1)]\n",
      "[(0, 0.18962453581090144), (1, 0.63738314121967221), (2, 0.17299232296942635)]\n",
      "time reason rate percent share unemployment worker\n",
      "==========================================\n",
      "[(1564, 1), (1776, 1), (2129, 1), (52, 1), (924, 1), (1599, 1)]\n",
      "[(0, 0.48101946240335275), (1, 0.19583064456434221), (2, 0.32314989303230507)]\n",
      "good aircraft capital net increase shipment\n",
      "==========================================\n",
      "[(481, 1), (2178, 1), (2211, 1), (905, 1), (1314, 1), (2637, 1), (1521, 1), (924, 1), (1727, 1)]\n",
      "[(0, 0.1588467823099512), (1, 0.034412690042749779), (2, 0.80674052764729898)]\n",
      "rebound consumption tax quarter area growth response increase indicator\n",
      "==========================================\n",
      "[(1632, 1), (225, 1), (1731, 1), (956, 1), (842, 1), (779, 1), (1810, 1), (1419, 1), (1040, 1), (370, 1), (1436, 1), (2698, 1), (1182, 1), (2271, 1)]\n",
      "[(0, 0.31760402224712653), (1, 0.50168446152886914), (2, 0.18071151622400444)]\n",
      "number trading factor swing data market strategy rate sale release movement trigger participant investor\n",
      "==========================================\n",
      "[(1795, 1), (2566, 1), (103, 1), (779, 1), (2388, 1), (2271, 1)]\n",
      "[(0, 0.05441087833377848), (1, 0.89796761293791572), (2, 0.047621508728305777)]\n",
      "loan issuance asset market class investor\n",
      "==========================================\n",
      "[(168, 1), (1386, 1), (779, 1), (526, 1), (1296, 2), (1105, 1), (412, 1)]\n",
      "[(0, 0.038597277633554944), (1, 0.7834044777427619), (2, 0.17799824462368319)]\n",
      "greek program market spread bond concern country\n",
      "==========================================\n",
      "[(2415, 1), (259, 1), (106, 1), (1869, 1), (2637, 1), (879, 2), (1105, 1), (1299, 1), (20, 1), (1109, 1), (2106, 1), (1243, 1), (830, 1)]\n",
      "[(0, 0.36557997388385144), (1, 0.025066501047492754), (2, 0.60935352506865581)]\n",
      "staff downside assessment development growth policy concern outlook risk forecast shock inflation economy\n",
      "==========================================\n",
      "[(1762, 1), (2314, 1), (2637, 1), (2708, 1), (1975, 1), (1182, 1)]\n",
      "[(0, 0.33421061616628744), (1, 0.20340372138681259), (2, 0.46238566244689994)]\n",
      "project activity growth construction pipeline participant\n",
      "==========================================\n",
      "[(898, 1), (1192, 1), (1804, 1), (847, 1), (1032, 2), (1112, 1), (1243, 1), (1182, 1)]\n",
      "[(0, 0.033605762019015127), (1, 0.18555745871851337), (2, 0.78083677926247141)]\n",
      "term oil decline commodity price import inflation participant\n",
      "==========================================\n",
      "[(1826, 1), (675, 1), (164, 1), (103, 1), (1386, 1), (1419, 1), (141, 1), (1652, 1), (950, 1), (1979, 1), (284, 1), (1182, 1)]\n",
      "[(0, 0.20861219426640087), (1, 0.76554775795810015), (2, 0.025840047775498896)]\n",
      "fund time purchase asset program rate end statement language range target participant\n",
      "==========================================\n",
      "[(375, 1), (488, 1), (491, 1), (1869, 1), (2637, 1), (1399, 1)]\n",
      "[(0, 0.35417311853740063), (1, 0.32246577917597818), (2, 0.32336110228662113)]\n",
      "reference hand opportunity development growth condition\n",
      "==========================================\n",
      "[(779, 1), (1590, 1), (1399, 1)]\n",
      "[(0, 0.084340710684671277), (1, 0.83232445716885317), (2, 0.083334832146475593)]\n",
      "market operation condition\n",
      "==========================================\n",
      "[(865, 1), (830, 1), (1032, 1), (2643, 1), (2462, 1), (312, 1), (1790, 1)]\n",
      "[(0, 0.042028252327412481), (1, 0.5458149447244659), (2, 0.41215680294812157)]\n",
      "stability economy price employment progress strength context\n",
      "==========================================\n",
      "[(1600, 1), (879, 1), (1388, 1), (813, 1), (2415, 1), (2256, 1), (1979, 1), (1182, 1)]\n",
      "[(0, 0.55260901811696583), (1, 0.40192800067890527), (2, 0.045462981204128838)]\n",
      "issue policy presentation topic staff communication range participant\n",
      "==========================================\n",
      "[(2242, 1), (552, 1), (1002, 1), (1516, 1), (177, 1), (1138, 1), (2552, 2), (1817, 1), (1755, 1)]\n",
      "[(0, 0.93756328871068395), (1, 0.03174583846963925), (2, 0.030690872819676716)]\n",
      "agenda election oath advice office period member meeting individual\n",
      "==========================================\n",
      "[(1064, 1), (965, 1)]\n",
      "[(0, 0.77766595990521115), (1, 0.11117523234288375), (2, 0.11115880775190523)]\n",
      "title vote\n",
      "==========================================\n",
      "[(2272, 1), (545, 2), (1104, 1), (941, 1), (208, 1), (2611, 1), (55, 1)]\n",
      "[(0, 0.54084454910152735), (1, 0.42211626566049404), (2, 0.03703918523797875)]\n",
      "day security calendar repurchase bank government agreement\n",
      "==========================================\n",
      "[(1064, 1), (1674, 1), (965, 1), (1262, 1)]\n",
      "[(0, 0.86661445887560318), (1, 0.066702857989217629), (2, 0.066682683135179319)]\n",
      "title instruction vote respect\n",
      "==========================================\n",
      "[(1817, 1), (1459, 1), (965, 1), (717, 1)]\n",
      "[(0, 0.86555723427956832), (1, 0.067633232423562534), (2, 0.066809533296869145)]\n",
      "meeting action vote minute\n",
      "==========================================\n",
      "[(1376, 1), (1089, 2), (2381, 1), (720, 1), (915, 1), (2197, 1), (570, 1), (189, 1), (447, 1)]\n",
      "[(0, 0.031094402888628272), (1, 0.03130193809718694), (2, 0.93760365901418474)]\n",
      "month workweek post-world level year high manufacturing production worker\n",
      "==========================================\n",
      "[(898, 1), (905, 1), (2637, 1), (78, 1), (2063, 1), (1425, 1)]\n",
      "[(0, 0.54558046107351854), (1, 0.057315175420285323), (2, 0.39710436350619605)]\n",
      "term quarter growth permit structure investment\n",
      "==========================================\n",
      "[(336, 1), (2119, 1), (1032, 2), (1583, 1), (720, 1), (924, 1)]\n",
      "[(0, 0.04180890382053272), (1, 0.043490618327947761), (2, 0.91470047785151953)]\n",
      "consumer index price energy level increase\n",
      "==========================================\n",
      "[(135, 1), (2314, 1), (684, 1), (532, 1), (1145, 1), (1375, 1)]\n",
      "[(0, 0.28865290774197011), (1, 0.47678319449788148), (2, 0.23456389776014838)]\n",
      "currency activity datum background mark dollar\n",
      "==========================================\n",
      "[(866, 1), (1831, 1), (1998, 1), (1839, 1), (720, 1), (1721, 1), (924, 1)]\n",
      "[(0, 0.0456997502655654), (1, 0.19236258551209157), (2, 0.7619376642223431)]\n",
      "course demand spending pace level relation increase\n",
      "==========================================\n"
     ]
    }
   ],
   "source": [
    "for bow in corpus[0:900:15]:\n",
    "    print bow\n",
    "    print lda2.get_document_topics(bow)\n",
    "    print \" \".join([id2word[e[0]] for e in bow])\n",
    "    print \"==========================================\""
   ]
  },
  {
   "cell_type": "markdown",
   "metadata": {},
   "source": [
    "*We find there to be three main topics that can be extracted from the corpus. The first topic is related to actions of the Federal Reserve and its assessment of the economy. The inclusion of words like \"development\", \"growth\", \"policy\", \"meeting\", etc. all speak to the objectives of the Fed and its focus on economic growth.*\n",
    "\n",
    "*Topic two relates to deals, and economic transactions. Relevant words include \"security\", \"repurchase\", \"transaction\", \"purchase\", \"sale\", and \"exchange\". These are all words relating to transactions and economic activity.*\n",
    "\n",
    "*Finally, topic three relates to broader macroeconomic trends and positive public perception of the economy. Here, relevant words include \"income\", \"confidence\", \"outlook\", \"consumer spending\", \"strength\", and \"appreciation\". This topic seems to imply a perception of growth or economic development*"
   ]
  },
  {
   "cell_type": "markdown",
   "metadata": {},
   "source": [
    "## Part 2: Naive Bayes Approach"
   ]
  },
  {
   "cell_type": "markdown",
   "metadata": {},
   "source": [
    "*Comment on carrying out naive bayes and the fact that we will do it 2 ways.*"
   ]
  },
  {
   "cell_type": "markdown",
   "metadata": {},
   "source": [
    "### 2.1: First Approach: Training a Naive Bayes Classifier"
   ]
  },
  {
   "cell_type": "markdown",
   "metadata": {},
   "source": [
    "We create the vocabulary of adjectives that we will use."
   ]
  },
  {
   "cell_type": "code",
   "execution_count": 23,
   "metadata": {
    "collapsed": true
   },
   "outputs": [],
   "source": [
    "flattened_adj_vocab = []\n",
    "for key in fomc_mins.keys():\n",
    "    nouns = fomc_parts[key][1]\n",
    "    for nounlist in nouns:\n",
    "        for n in nounlist:\n",
    "            flattened_adj_vocab.append(n)\n",
    "\n",
    "frequency2 = Counter(flattened_adj_vocab)\n",
    "id2adj = {}; adjvocab = {}\n",
    "for i,word in enumerate(frequency2.keys()):\n",
    "    adjvocab[word] = i \n",
    "    id2adj[i] = word"
   ]
  },
  {
   "cell_type": "markdown",
   "metadata": {},
   "source": [
    "We combine the adjectives in each statement into a single list and thereby have a list of adjectives for each review."
   ]
  },
  {
   "cell_type": "code",
   "execution_count": 24,
   "metadata": {
    "collapsed": false
   },
   "outputs": [],
   "source": [
    "X = []\n",
    "for key in fomc_mins.keys():\n",
    "    nouns = fomc_parts[key][1]\n",
    "    for nounlist in nouns:\n",
    "        X.append(nounlist)"
   ]
  },
  {
   "cell_type": "markdown",
   "metadata": {},
   "source": [
    "The most common words..."
   ]
  },
  {
   "cell_type": "code",
   "execution_count": 25,
   "metadata": {
    "collapsed": false,
    "scrolled": true
   },
   "outputs": [
    {
     "data": {
      "text/plain": [
       "[(5388, u'economic'),\n",
       " (3074, u'recent'),\n",
       " (2874, u'financial'),\n",
       " (2771, u'foreign'),\n",
       " (2236, u'monetary'),\n",
       " (1901, u'federal'),\n",
       " (1768, u'intermeeting'),\n",
       " (1751, u'likely'),\n",
       " (1550, u'real'),\n",
       " (1321, u'low'),\n",
       " (1298, u'domestic'),\n",
       " (1222, u'consistent'),\n",
       " (1168, u'moderate'),\n",
       " (1100, u'higher'),\n",
       " (1068, u'little'),\n",
       " (1043, u'current'),\n",
       " (1014, u'fourth'),\n",
       " (975, u'second'),\n",
       " (938, u'new'),\n",
       " (887, u'strong'),\n",
       " (880, u'high'),\n",
       " (863, u'appropriate'),\n",
       " (856, u'overall'),\n",
       " (813, u'large'),\n",
       " (774, u'available'),\n",
       " (733, u'longer-term'),\n",
       " (724, u'open'),\n",
       " (688, u'substantial'),\n",
       " (669, u'fiscal'),\n",
       " (658, u'nominal'),\n",
       " (630, u'average'),\n",
       " (628, u'unchanged'),\n",
       " (626, u'previous'),\n",
       " (616, u'major'),\n",
       " (606, u'industrial'),\n",
       " (600, u'sustainable'),\n",
       " (584, u'robust'),\n",
       " (579, u'total'),\n",
       " (557, u'potential'),\n",
       " (554, u'retail'),\n",
       " (541, u'significant'),\n",
       " (534, u'additional'),\n",
       " (515, u'unanimous'),\n",
       " (513, u'longer-run'),\n",
       " (508, u'sizable'),\n",
       " (499, u'commercial'),\n",
       " (497, u'past'),\n",
       " (496, u'lower'),\n",
       " (495, u'elevated'),\n",
       " (486, u'favorable'),\n",
       " (480, u'greater'),\n",
       " (479, u'modest'),\n",
       " (475, u'possible'),\n",
       " (468, u'nonfinancial'),\n",
       " (466, u'considerable'),\n",
       " (465, u'ongoing'),\n",
       " (459, u'solid'),\n",
       " (447, u'accommodative'),\n",
       " (438, u'long-run'),\n",
       " (436, u'continued'),\n",
       " (431, u'small'),\n",
       " (428, u'early'),\n",
       " (427, u'rapid'),\n",
       " (407, u'private'),\n",
       " (404, u'incoming'),\n",
       " (394, u'core'),\n",
       " (393, u'nonresidential'),\n",
       " (390, u'mortgage-backed'),\n",
       " (390, u'central'),\n",
       " (385, u'weak'),\n",
       " (368, u'anecdotal'),\n",
       " (364, u'maximum'),\n",
       " (362, u'earlier'),\n",
       " (362, u'corporate'),\n",
       " (358, u'near'),\n",
       " (351, u'slower'),\n",
       " (339, u'nonfarm'),\n",
       " (338, u'following'),\n",
       " (334, u'alternate'),\n",
       " (327, u'short-term'),\n",
       " (327, u'future'),\n",
       " (321, u'temporary'),\n",
       " (321, u'particular'),\n",
       " (311, u'sharp'),\n",
       " (309, u'broad'),\n",
       " (308, u'international'),\n",
       " (305, u'important'),\n",
       " (295, u'aggregate'),\n",
       " (284, u'long-term'),\n",
       " (278, u'positive'),\n",
       " (277, u'downside'),\n",
       " (276, u'relative'),\n",
       " (270, u'final'),\n",
       " (266, u'adverse'),\n",
       " (262, u'necessary'),\n",
       " (259, u'increased'),\n",
       " (258, u'late'),\n",
       " (258, u'anticipated'),\n",
       " (256, u'stronger'),\n",
       " (255, u'near-term'),\n",
       " (252, u'residential'),\n",
       " (252, u'larger'),\n",
       " (248, u'key'),\n",
       " (247, u'widespread'),\n",
       " (243, u'global'),\n",
       " (235, u'faster'),\n",
       " (235, u'business'),\n",
       " (233, u'tight'),\n",
       " (231, u'personal'),\n",
       " (231, u'downward'),\n",
       " (230, u'inflationary'),\n",
       " (230, u'hourly'),\n",
       " (227, u'forward'),\n",
       " (227, u'expected'),\n",
       " (226, u'reduced'),\n",
       " (224, u'mixed'),\n",
       " (212, u'limited'),\n",
       " (211, u'sluggish'),\n",
       " (211, u'single-family'),\n",
       " (211, u'effective'),\n",
       " (210, u'outstanding'),\n",
       " (208, u'gradual'),\n",
       " (208, u'brisk'),\n",
       " (205, u'expressed'),\n",
       " (204, u'smaller'),\n",
       " (204, u'high-tech'),\n",
       " (203, u'related'),\n",
       " (200, u'various'),\n",
       " (198, u'net'),\n",
       " (197, u'acceptable'),\n",
       " (196, u'prospective'),\n",
       " (193, u'durable'),\n",
       " (193, u'coming'),\n",
       " (191, u'stable'),\n",
       " (190, u'broader'),\n",
       " (189, u'weaker'),\n",
       " (185, u'upward'),\n",
       " (185, u'european'),\n",
       " (184, u'special'),\n",
       " (182, u'historical'),\n",
       " (176, u'euro'),\n",
       " (173, u'flat'),\n",
       " (172, u'extended'),\n",
       " (169, u'immediate'),\n",
       " (168, u'appreciable'),\n",
       " (167, u'dual'),\n",
       " (165, u'disposable'),\n",
       " (164, u'nondefense'),\n",
       " (163, u'negative'),\n",
       " (162, u'uncertain'),\n",
       " (161, u'difficult'),\n",
       " (158, u'initial'),\n",
       " (156, u'trade-weighted'),\n",
       " (156, u'principal'),\n",
       " (155, u'civilian'),\n",
       " (150, u'subject'),\n",
       " (150, u'individual'),\n",
       " (150, u'automotive'),\n",
       " (149, u'wide'),\n",
       " (148, u'local'),\n",
       " (148, u'forecast'),\n",
       " (148, u'finished'),\n",
       " (146, u'gross'),\n",
       " (145, u'slow'),\n",
       " (145, u'general'),\n",
       " (145, u'competitive'),\n",
       " (145, u'careful'),\n",
       " (144, u'normal'),\n",
       " (143, u'sovereign'),\n",
       " (143, u'lesser'),\n",
       " (135, u'steady'),\n",
       " (135, u'similar'),\n",
       " (134, u'better'),\n",
       " (133, u'transitory'),\n",
       " (132, u'speculative-grade'),\n",
       " (126, u'volatile'),\n",
       " (126, u'primary'),\n",
       " (126, u'latest'),\n",
       " (125, u'projected'),\n",
       " (125, u'monthly'),\n",
       " (124, u'pursuant'),\n",
       " (123, u'reciprocal'),\n",
       " (123, u'longer'),\n",
       " (123, u'advanced'),\n",
       " (122, u'japanese'),\n",
       " (122, u'apparent'),\n",
       " (121, u'underlying'),\n",
       " (121, u'slight'),\n",
       " (121, u'cautious'),\n",
       " (119, u'intermediate'),\n",
       " (119, u'direct'),\n",
       " (116, u'wholesale'),\n",
       " (116, u'liquid'),\n",
       " (114, u'reasonable'),\n",
       " (113, u'national'),\n",
       " (113, u'depressed'),\n",
       " (112, u'upper'),\n",
       " (112, u'multifamily'),\n",
       " (110, u'specific'),\n",
       " (109, u'regional'),\n",
       " (107, u'heightened'),\n",
       " (106, u'nonsupervisory'),\n",
       " (105, u'long'),\n",
       " (104, u'overnight'),\n",
       " (103, u'close'),\n",
       " (103, u'clear'),\n",
       " (102, u'sustained'),\n",
       " (102, u'regular'),\n",
       " (101, u'twelve-month'),\n",
       " (101, u'sufficient'),\n",
       " (101, u'subdued'),\n",
       " (101, u'short'),\n",
       " (101, u'improved'),\n",
       " (101, u'evident'),\n",
       " (99, u'first-quarter'),\n",
       " (98, u'asset-backed'),\n",
       " (97, u'subsequent'),\n",
       " (97, u'statutory'),\n",
       " (97, u'feasible'),\n",
       " (97, u'desirable'),\n",
       " (96, u'structural'),\n",
       " (96, u'balanced'),\n",
       " (95, u'procedural'),\n",
       " (95, u'heavy'),\n",
       " (94, u'light'),\n",
       " (93, u'upside'),\n",
       " (93, u'market-based'),\n",
       " (93, u'investment-grade'),\n",
       " (92, u'crude'),\n",
       " (91, u'severe'),\n",
       " (90, u'unlikely'),\n",
       " (90, u'owing'),\n",
       " (90, u'mutual'),\n",
       " (89, u'tighter'),\n",
       " (89, u'excess'),\n",
       " (89, u'cumulative'),\n",
       " (87, u'supportive'),\n",
       " (87, u'annual'),\n",
       " (86, u'asian'),\n",
       " (85, u'public'),\n",
       " (85, u'certain'),\n",
       " (83, u'useful'),\n",
       " (83, u'leveraged'),\n",
       " (82, u'official'),\n",
       " (82, u'notable'),\n",
       " (81, u'steep'),\n",
       " (81, u'german'),\n",
       " (81, u'external'),\n",
       " (80, u'tentative'),\n",
       " (80, u'seasonal'),\n",
       " (80, u'contemplated'),\n",
       " (80, u'consecutive'),\n",
       " (80, u'actual'),\n",
       " (78, u'marked'),\n",
       " (78, u'comparable'),\n",
       " (77, u'foreseeable'),\n",
       " (77, u'euro-area'),\n",
       " (76, u'soft'),\n",
       " (75, u'single'),\n",
       " (73, u'satisfactory'),\n",
       " (73, u'lagged'),\n",
       " (72, u'non-energy'),\n",
       " (72, u'10-year'),\n",
       " (71, u'largest'),\n",
       " (71, u'intended'),\n",
       " (71, u'eventual'),\n",
       " (71, u'continuing'),\n",
       " (70, u'statistical'),\n",
       " (70, u'numerous'),\n",
       " (70, u'disappointing'),\n",
       " (69, u'year-earlier'),\n",
       " (68, u'equal'),\n",
       " (67, u'term'),\n",
       " (67, u'joint'),\n",
       " (66, u'second-quarter'),\n",
       " (66, u'agricultural'),\n",
       " (65, u'fourth-quarter'),\n",
       " (64, u'stimulative'),\n",
       " (64, u'persistent'),\n",
       " (64, u'highest'),\n",
       " (63, u'medium-term'),\n",
       " (63, u'manager'),\n",
       " (62, u'optimistic'),\n",
       " (62, u'forward-looking'),\n",
       " (62, u'ample'),\n",
       " (61, u'natural'),\n",
       " (60, u'exceptional'),\n",
       " (59, u'unusual'),\n",
       " (59, u'unsold'),\n",
       " (58, u'narrow'),\n",
       " (57, u'proposed'),\n",
       " (57, u'confident'),\n",
       " (57, u'canadian'),\n",
       " (56, u'swiss'),\n",
       " (56, u'restrictive'),\n",
       " (56, u'macroeconomic'),\n",
       " (56, u'helpful'),\n",
       " (56, u'alternative'),\n",
       " (55, u'fixed-rate'),\n",
       " (54, u'outright'),\n",
       " (54, u'attractive'),\n",
       " (53, u'vigorous'),\n",
       " (53, u'operational'),\n",
       " (53, u'lowest'),\n",
       " (52, u'partial'),\n",
       " (52, u'mexican'),\n",
       " (52, u'institutional'),\n",
       " (51, u'year-over-year'),\n",
       " (51, u'weaker-than-expected'),\n",
       " (51, u'selected'),\n",
       " (50, u'permanent'),\n",
       " (50, u'different'),\n",
       " (50, u'defined'),\n",
       " (49, u'third-quarter'),\n",
       " (49, u'technical'),\n",
       " (49, u'ready'),\n",
       " (48, u'probable'),\n",
       " (48, u'non-oil'),\n",
       " (48, u'good'),\n",
       " (47, u'unemployed'),\n",
       " (46, u'asymmetric'),\n",
       " (45, u'usual'),\n",
       " (45, u'prime'),\n",
       " (45, u'measured'),\n",
       " (45, u'concerned'),\n",
       " (44, u'regulatory'),\n",
       " (44, u'prompt'),\n",
       " (44, u'pce'),\n",
       " (44, u'excessive'),\n",
       " (43, u'nondurable'),\n",
       " (43, u'mild'),\n",
       " (43, u'inflation-protected'),\n",
       " (43, u'aggressive'),\n",
       " (42, u'pronounced'),\n",
       " (42, u'peripheral'),\n",
       " (42, u'pass-through'),\n",
       " (42, u'later'),\n",
       " (42, u'extraordinary'),\n",
       " (41, u'weather-related'),\n",
       " (41, u'observed'),\n",
       " (41, u'municipal'),\n",
       " (41, u'long-duration'),\n",
       " (41, u'firm'),\n",
       " (41, u'diminished'),\n",
       " (40, u'repurchase'),\n",
       " (40, u'offered'),\n",
       " (40, u'neutral'),\n",
       " (40, u'nearer'),\n",
       " (40, u'geopolitical'),\n",
       " (40, u'equivalent'),\n",
       " (39, u'warm'),\n",
       " (39, u'uneven'),\n",
       " (39, u'record'),\n",
       " (39, u'mandate-consistent'),\n",
       " (39, u'large-scale'),\n",
       " (39, u'cyclical'),\n",
       " (38, u'pent-up'),\n",
       " (38, u'outsized'),\n",
       " (38, u'numerical'),\n",
       " (38, u'broad-based'),\n",
       " (38, u'adequate'),\n",
       " (37, u'unsustainable'),\n",
       " (37, u'symmetric'),\n",
       " (37, u'skilled'),\n",
       " (37, u'attributable'),\n",
       " (36, u'tilted'),\n",
       " (36, u'survey-based'),\n",
       " (36, u'prior'),\n",
       " (35, u'unexpected'),\n",
       " (35, u'unanticipated'),\n",
       " (35, u'sensitive'),\n",
       " (34, u'unsecured'),\n",
       " (34, u'timely'),\n",
       " (34, u'quantitative'),\n",
       " (34, u'noticeable'),\n",
       " (34, u'discussed'),\n",
       " (34, u'corresponding'),\n",
       " (34, u'12-month'),\n",
       " (33, u'vulnerable'),\n",
       " (33, u'inflation-indexed'),\n",
       " (33, u'estimated'),\n",
       " (33, u'depository'),\n",
       " (33, u'dependent'),\n",
       " (32, u'softer'),\n",
       " (32, u'prudent'),\n",
       " (32, u'non-auto'),\n",
       " (32, u'median'),\n",
       " (32, u'explicit'),\n",
       " (32, u'closer'),\n",
       " (32, u'buoyant'),\n",
       " (32, u'bid-asked'),\n",
       " (32, u'added'),\n",
       " (32, u'able'),\n",
       " (31, u'syndicated'),\n",
       " (31, u'secondary'),\n",
       " (31, u'muted'),\n",
       " (31, u'conditional'),\n",
       " (31, u'cited'),\n",
       " (30, u'variable'),\n",
       " (30, u'unclear'),\n",
       " (30, u'reluctant'),\n",
       " (30, u'healthy'),\n",
       " (29, u'upcoming'),\n",
       " (29, u'three-month'),\n",
       " (29, u'restrained'),\n",
       " (29, u'private-sector'),\n",
       " (29, u'planned'),\n",
       " (29, u'outside'),\n",
       " (29, u'lean'),\n",
       " (29, u'interest-sensitive'),\n",
       " (29, u'fixed'),\n",
       " (28, u'productive'),\n",
       " (28, u'present'),\n",
       " (28, u'premature'),\n",
       " (28, u'poor'),\n",
       " (28, u'political'),\n",
       " (28, u'minor'),\n",
       " (28, u'eligible'),\n",
       " (28, u'distressed'),\n",
       " (28, u'disorderly'),\n",
       " (28, u'benign'),\n",
       " (27, u'strained'),\n",
       " (27, u'predominant'),\n",
       " (26, u'willing'),\n",
       " (26, u'two-month'),\n",
       " (26, u'prolonged'),\n",
       " (26, u'preliminary'),\n",
       " (26, u'lackluster'),\n",
       " (26, u'ioer'),\n",
       " (26, u'fragile'),\n",
       " (26, u'facilitate'),\n",
       " (26, u'damped'),\n",
       " (26, u'attended'),\n",
       " (26, u'30-year'),\n",
       " (25, u'wider'),\n",
       " (25, u'typical'),\n",
       " (25, u'stronger-than-expected'),\n",
       " (25, u'speculative'),\n",
       " (25, u'routine'),\n",
       " (25, u'respective'),\n",
       " (25, u'closing'),\n",
       " (24, u'swedish'),\n",
       " (24, u'straight'),\n",
       " (24, u'medical'),\n",
       " (24, u'marginal'),\n",
       " (24, u'housing-related'),\n",
       " (24, u'express'),\n",
       " (24, u'ebullient'),\n",
       " (24, u'brazilian'),\n",
       " (24, u'authorized'),\n",
       " (24, u'adjust'),\n",
       " (23, u'ultimate'),\n",
       " (23, u'quarterly'),\n",
       " (23, u'norwegian'),\n",
       " (23, u'great'),\n",
       " (23, u'fundamental'),\n",
       " (23, u'foreclosed'),\n",
       " (23, u'firmer'),\n",
       " (23, u'experienced'),\n",
       " (23, u'expansionary'),\n",
       " (23, u'elected'),\n",
       " (23, u'danish'),\n",
       " (23, u'continuous'),\n",
       " (23, u'adjusted'),\n",
       " (22, u'upbeat'),\n",
       " (22, u'safe'),\n",
       " (22, u'riskier'),\n",
       " (22, u'repo'),\n",
       " (22, u'qualitative'),\n",
       " (22, u'pessimistic'),\n",
       " (22, u'pertinent'),\n",
       " (22, u'five-year'),\n",
       " (22, u'downbeat'),\n",
       " (22, u'comfortable'),\n",
       " (21, u'year-end'),\n",
       " (21, u'unwelcome'),\n",
       " (21, u'senior'),\n",
       " (21, u'revised'),\n",
       " (21, u'reflected'),\n",
       " (21, u'promising'),\n",
       " (21, u'preset'),\n",
       " (21, u'lending'),\n",
       " (21, u'funding'),\n",
       " (21, u'employment-to-population'),\n",
       " (21, u'disruptive'),\n",
       " (21, u'congressional'),\n",
       " (20, u'undesirable'),\n",
       " (20, u'tepid'),\n",
       " (20, u'take-up'),\n",
       " (20, u'successful'),\n",
       " (20, u'smooth'),\n",
       " (20, u'professional'),\n",
       " (20, u'pointed'),\n",
       " (20, u'organizational'),\n",
       " (20, u'nonrevolving'),\n",
       " (20, u'monitor'),\n",
       " (20, u'lower-rated'),\n",
       " (20, u'intermediate-term'),\n",
       " (20, u'intellectual'),\n",
       " (20, u'indirect'),\n",
       " (20, u'disinflationary'),\n",
       " (20, u'desired'),\n",
       " (20, u'continental'),\n",
       " (20, u'chinese'),\n",
       " (20, u'calculated'),\n",
       " (20, u'affected'),\n",
       " (19, u'unintended'),\n",
       " (19, u'tightening'),\n",
       " (19, u'scattered'),\n",
       " (19, u'provisional'),\n",
       " (19, u'nonconforming'),\n",
       " (19, u'c&i'),\n",
       " (19, u'best'),\n",
       " (19, u'austrian'),\n",
       " (19, u'announced'),\n",
       " (19, u'amended'),\n",
       " (18, u'worrisome'),\n",
       " (18, u'sure'),\n",
       " (18, u'subprime'),\n",
       " (18, u'subpar'),\n",
       " (18, u'reversed'),\n",
       " (18, u'remote'),\n",
       " (18, u'july-august'),\n",
       " (18, u'january-february'),\n",
       " (18, u'intense'),\n",
       " (18, u'indicated'),\n",
       " (18, u'cold'),\n",
       " (17, u'welcome'),\n",
       " (17, u'strengthening'),\n",
       " (17, u'secured'),\n",
       " (17, u'saving'),\n",
       " (17, u'preannounced'),\n",
       " (17, u'offset'),\n",
       " (17, u'jumbo'),\n",
       " (17, u'interim'),\n",
       " (17, u'enhanced'),\n",
       " (17, u'encouraging'),\n",
       " (17, u'easing'),\n",
       " (17, u'delayed'),\n",
       " (17, u'costly'),\n",
       " (17, u'construction'),\n",
       " (17, u'benchmark'),\n",
       " (17, u'attendant'),\n",
       " (17, u'1-3'),\n",
       " (16, u'worldwide'),\n",
       " (16, u'working'),\n",
       " (16, u'weekly'),\n",
       " (16, u'unfilled'),\n",
       " (16, u'unable'),\n",
       " (16, u'two-year'),\n",
       " (16, u'sterling'),\n",
       " (16, u'slowing'),\n",
       " (16, u'simple'),\n",
       " (16, u'semiannual'),\n",
       " (16, u'rough'),\n",
       " (16, u'protracted'),\n",
       " (16, u'patient'),\n",
       " (16, u'italian'),\n",
       " (16, u'greek'),\n",
       " (16, u'distinct'),\n",
       " (16, u'brief'),\n",
       " (16, u'boosted'),\n",
       " (15, u'symmetrical'),\n",
       " (15, u'quiescent'),\n",
       " (15, u'orderly'),\n",
       " (15, u'noninflationary'),\n",
       " (15, u'narrower'),\n",
       " (15, u'hurricane-related'),\n",
       " (15, u'forthcoming'),\n",
       " (15, u'dissenting'),\n",
       " (15, u'depressing'),\n",
       " (15, u'critical'),\n",
       " (15, u'complete'),\n",
       " (15, u'beneficial'),\n",
       " (14, u'weighted'),\n",
       " (14, u'viewed'),\n",
       " (14, u'unsettled'),\n",
       " (14, u'troubled'),\n",
       " (14, u'ten-year'),\n",
       " (14, u'technological'),\n",
       " (14, u'selling'),\n",
       " (14, u'risky'),\n",
       " (14, u'reliable'),\n",
       " (14, u'prepared'),\n",
       " (14, u'preceding'),\n",
       " (14, u'october-november'),\n",
       " (14, u'larger-than-expected'),\n",
       " (14, u'insufficient'),\n",
       " (14, u'implied'),\n",
       " (14, u'high-yield'),\n",
       " (14, u'held'),\n",
       " (14, u'government-sponsored'),\n",
       " (14, u'french'),\n",
       " (14, u'cre'),\n",
       " (14, u'april-may'),\n",
       " (13, u'standard'),\n",
       " (13, u'smallest'),\n",
       " (13, u'separate'),\n",
       " (13, u'scheduled'),\n",
       " (13, u'renewed'),\n",
       " (13, u'remarkable'),\n",
       " (13, u'preferable'),\n",
       " (13, u'part-time'),\n",
       " (13, u'inventory-sales'),\n",
       " (13, u'inappropriate'),\n",
       " (13, u'flexible'),\n",
       " (13, u'essential'),\n",
       " (13, u'easier'),\n",
       " (13, u'clearer'),\n",
       " (13, u'chain-type'),\n",
       " (13, u'better-than-expected'),\n",
       " (12, u'taut'),\n",
       " (12, u'stop-out'),\n",
       " (12, u'shorter-term'),\n",
       " (12, u'securitized'),\n",
       " (12, u'safe-haven'),\n",
       " (12, u'revolving'),\n",
       " (12, u'required'),\n",
       " (12, u'preemptive'),\n",
       " (12, u'precise'),\n",
       " (12, u'precautionary'),\n",
       " (12, u'option-implied'),\n",
       " (12, u'noted'),\n",
       " (12, u'institution-only'),\n",
       " (12, u'inconsistent'),\n",
       " (12, u'included'),\n",
       " (12, u'highlighted'),\n",
       " (12, u'hedge'),\n",
       " (12, u'frequent'),\n",
       " (12, u'fewer'),\n",
       " (12, u'comprehensive'),\n",
       " (12, u'common'),\n",
       " (12, u'collateralized'),\n",
       " (12, u'british'),\n",
       " (12, u'basic'),\n",
       " (12, u'accompanying'),\n",
       " (12, u'accelerated'),\n",
       " (11, u'western'),\n",
       " (11, u'voiced'),\n",
       " (11, u'vacant'),\n",
       " (11, u'true'),\n",
       " (11, u'supplementary'),\n",
       " (11, u'spanish'),\n",
       " (11, u'short-run'),\n",
       " (11, u'reverse'),\n",
       " (11, u'resilient'),\n",
       " (11, u'rental'),\n",
       " (11, u'raw'),\n",
       " (11, u'preferred'),\n",
       " (11, u'passthrough'),\n",
       " (11, u'one-year'),\n",
       " (11, u'one-time'),\n",
       " (11, u'on-the-run'),\n",
       " (11, u'nonmarket'),\n",
       " (11, u'nationwide'),\n",
       " (11, u'misleading'),\n",
       " (11, u'minimal'),\n",
       " (11, u'middle'),\n",
       " (11, u'mentioned'),\n",
       " (11, u'meeting'),\n",
       " (11, u'main'),\n",
       " (11, u'indicative'),\n",
       " (11, u'imminent'),\n",
       " (11, u'high-technology'),\n",
       " (11, u'hard'),\n",
       " (11, u'fifth'),\n",
       " (11, u'energy-related'),\n",
       " (11, u'discretionary'),\n",
       " (11, u'conventional'),\n",
       " (11, u'confidential'),\n",
       " (11, u'closed-end'),\n",
       " (11, u'believed'),\n",
       " (11, u'australian'),\n",
       " (11, u'advisable'),\n",
       " (11, u'active'),\n",
       " (10, u'wealth-to-income'),\n",
       " (10, u'unfavorable'),\n",
       " (10, u'surprising'),\n",
       " (10, u'submitted'),\n",
       " (10, u'semi-annual'),\n",
       " (10, u'persuasive'),\n",
       " (10, u'objective'),\n",
       " (10, u'lengthy'),\n",
       " (10, u'legislative'),\n",
       " (10, u'jobless'),\n",
       " (10, u'inherent'),\n",
       " (10, u'inevitable'),\n",
       " (10, u'industrialized'),\n",
       " (10, u'impossible'),\n",
       " (10, u'foster'),\n",
       " (10, u'expanded'),\n",
       " (10, u'delinquent'),\n",
       " (10, u'complementary'),\n",
       " (10, u'alert'),\n",
       " (10, u'agency-guaranteed'),\n",
       " (10, u'aa-rated'),\n",
       " (10, u'5-year'),\n",
       " (9, u'year-ahead'),\n",
       " (9, u'unnecessary'),\n",
       " (9, u'testing'),\n",
       " (9, u'targeted'),\n",
       " (9, u'substantive'),\n",
       " (9, u'strengthened'),\n",
       " (9, u'shorter'),\n",
       " (9, u'short-lived'),\n",
       " (9, u'outpaced'),\n",
       " (9, u'one-month'),\n",
       " (9, u'nontraditional'),\n",
       " (9, u'near-record'),\n",
       " (9, u'mortgage-related'),\n",
       " (9, u'military'),\n",
       " (9, u'measurable'),\n",
       " (9, u'matched'),\n",
       " (9, u'manufactured'),\n",
       " (9, u'mandated'),\n",
       " (9, u'lower-than-expected'),\n",
       " (9, u'internal'),\n",
       " (9, u'historic'),\n",
       " (9, u'fixed-income'),\n",
       " (9, u'enlarged'),\n",
       " (9, u'efficient'),\n",
       " (9, u'detailed'),\n",
       " (9, u'deep'),\n",
       " (9, u'data'),\n",
       " (9, u'complex'),\n",
       " (9, u'compelling'),\n",
       " (9, u'compatible'),\n",
       " (9, u'collective'),\n",
       " (9, u'bright'),\n",
       " (9, u'asymmetrical'),\n",
       " (9, u'assumed'),\n",
       " (9, u'absent'),\n",
       " (9, u'above-trend'),\n",
       " (9, u'a2'),\n",
       " (8, u'wait-and-see'),\n",
       " (8, u'vital'),\n",
       " (8, u'unwarranted'),\n",
       " (8, u'unutilized'),\n",
       " (8, u'unused'),\n",
       " (8, u'unknown'),\n",
       " (8, u'unaffected'),\n",
       " (8, u'unacceptable'),\n",
       " (8, u'traditional'),\n",
       " (8, u'three-year'),\n",
       " (8, u'systemic'),\n",
       " (8, u'stepped-up'),\n",
       " (8, u'sound'),\n",
       " (8, u'skeptical'),\n",
       " (8, u'recorded'),\n",
       " (8, u'prominent'),\n",
       " (8, u'predictable'),\n",
       " (8, u'passing'),\n",
       " (8, u'nonprime'),\n",
       " (8, u'new-issue'),\n",
       " (8, u'longer-dated'),\n",
       " (8, u'lasting'),\n",
       " (8, u'interpreted'),\n",
       " (8, u'intensified'),\n",
       " (8, u'informative'),\n",
       " (8, u'inflation-adjusted'),\n",
       " (8, u'incipient'),\n",
       " (8, u'impressive'),\n",
       " (8, u'housing'),\n",
       " (8, u'hot'),\n",
       " (8, u'homebuying'),\n",
       " (8, u'full-time'),\n",
       " (8, u'forceful'),\n",
       " (8, u'empirical'),\n",
       " (8, u'electronic'),\n",
       " (8, u'data-dependent'),\n",
       " (8, u'daily'),\n",
       " (8, u'constant'),\n",
       " (8, u'conclusive'),\n",
       " (8, u'concentrated'),\n",
       " (8, u'bad'),\n",
       " (8, u'anti-inflationary'),\n",
       " (8, u'2\\xa0percent'),\n",
       " (8, u'1997'),\n",
       " (8, u'1995'),\n",
       " (8, u'1-1'),\n",
       " (7, u'\\x93the'),\n",
       " (7, u'wet'),\n",
       " (7, u'unwanted'),\n",
       " (7, u'undue'),\n",
       " (7, u'undesired'),\n",
       " (7, u'unbiased'),\n",
       " (7, u'tips-based'),\n",
       " (7, u'thirty-year'),\n",
       " (7, u'tax-related'),\n",
       " (7, u'sub-par'),\n",
       " (7, u'still-low'),\n",
       " (7, u'stagnant'),\n",
       " (7, u'softening'),\n",
       " (7, u'so-called'),\n",
       " (7, u'six-month'),\n",
       " (7, u'scarce'),\n",
       " (7, u'satisfied'),\n",
       " (7, u'responsive'),\n",
       " (7, u'remained'),\n",
       " (7, u'quarter-end'),\n",
       " (7, u'practical'),\n",
       " (7, u'plausible'),\n",
       " (7, u'outlined'),\n",
       " (7, u'occasional'),\n",
       " (7, u'nonmonetary'),\n",
       " (7, u'non-automotive'),\n",
       " (7, u'mortgage'),\n",
       " (7, u'meaningful'),\n",
       " (7, u'march-april'),\n",
       " (7, u'lead'),\n",
       " (7, u'involved'),\n",
       " (7, u'inventory-to-sales'),\n",
       " (7, u'incorporating'),\n",
       " (7, u'imported'),\n",
       " (7, u'greatest'),\n",
       " (7, u'four-quarter'),\n",
       " (7, u'formal'),\n",
       " (7, u'flagging'),\n",
       " (7, u'first-time'),\n",
       " (7, u'extensive'),\n",
       " (7, u'entire'),\n",
       " (7, u'english'),\n",
       " (7, u'dollar-denominated'),\n",
       " (7, u'demographic'),\n",
       " (7, u'deeper'),\n",
       " (7, u'decreased'),\n",
       " (7, u'contingent'),\n",
       " (7, u'consequent'),\n",
       " (7, u'conducive'),\n",
       " (7, u'combined'),\n",
       " (7, u'bilateral'),\n",
       " (7, u'belgian'),\n",
       " (7, u'approximate'),\n",
       " (7, u'applicable'),\n",
       " (7, u'adjustable-rate'),\n",
       " (7, u'29-30'),\n",
       " (6, u'younger'),\n",
       " (6, u'worsening'),\n",
       " (6, u'wary'),\n",
       " (6, u'voluntary'),\n",
       " (6, u'upgrade'),\n",
       " (6, u'tragic'),\n",
       " (6, u'trading'),\n",
       " (6, u'supervisory'),\n",
       " (6, u'strongest'),\n",
       " (6, u'stringent'),\n",
       " (6, u'still-high'),\n",
       " (6, u'still-elevated'),\n",
       " (6, u'self-sustaining'),\n",
       " (6, u'retain'),\n",
       " (6, u'remain'),\n",
       " (6, u'reflect'),\n",
       " (6, u'reached'),\n",
       " (6, u'prompted'),\n",
       " (6, u'popular'),\n",
       " (6, u'policymaking'),\n",
       " (6, u'periodic'),\n",
       " (6, u'overtime'),\n",
       " (6, u'overseas'),\n",
       " (6, u'one-half'),\n",
       " (6, u'older'),\n",
       " (6, u'non-high-tech'),\n",
       " (6, u'moved'),\n",
       " (6, u'mbs-related'),\n",
       " (6, u'lower-income'),\n",
       " (6, u'legal'),\n",
       " (6, u'ior'),\n",
       " (6, u'intermediation'),\n",
       " (6, u'incremental'),\n",
       " (6, u'impaired'),\n",
       " (6, u'illiquid'),\n",
       " (6, u'hiring'),\n",
       " (6, u'higher-than-expected'),\n",
       " (6, u'high-end'),\n",
       " (6, u'gloomy'),\n",
       " (6, u'flight-to-quality'),\n",
       " (6, u'fading'),\n",
       " (6, u'electric'),\n",
       " (6, u'dynamic'),\n",
       " (6, u'double-digit'),\n",
       " (6, u'deliberative'),\n",
       " (6, u'decisive'),\n",
       " (6, u'date-based'),\n",
       " (6, u'credible'),\n",
       " (6, u'convincing'),\n",
       " (6, u'construction-related'),\n",
       " (6, u'conducted'),\n",
       " (6, u'commensurate'),\n",
       " (6, u'budgetary'),\n",
       " (6, u'asset-purchase'),\n",
       " (6, u'argentine'),\n",
       " (6, u'analytical'),\n",
       " (6, u'after-tax'),\n",
       " (6, u'abrupt'),\n",
       " (6, u'aaa-rated'),\n",
       " (6, u'28-day'),\n",
       " (5, u'well-informed'),\n",
       " (5, u'well-anchored'),\n",
       " (5, u'weather-depressed'),\n",
       " (5, u'volume-weighted'),\n",
       " (5, u'visible'),\n",
       " (5, u'vigilant'),\n",
       " (5, u'used'),\n",
       " (5, u'unskilled'),\n",
       " (5, u'unrevised'),\n",
       " (5, u'unresolved'),\n",
       " (5, u'unreliable'),\n",
       " (5, u'unprecedented'),\n",
       " (5, u'unedited'),\n",
       " (5, u'unconventional'),\n",
       " (5, u'uncomfortable'),\n",
       " (5, u'tightened'),\n",
       " (5, u'surprised'),\n",
       " (5, u'supply-side'),\n",
       " (5, u'sudden'),\n",
       " (5, u'stretched'),\n",
       " (5, u'still-accommodative'),\n",
       " (5, u'steeper'),\n",
       " (5, u'slowest'),\n",
       " (5, u'sharper'),\n",
       " (5, u'seventh'),\n",
       " (5, u'scant'),\n",
       " (5, u'responsible'),\n",
       " (5, u'receptive'),\n",
       " (5, u'profitable'),\n",
       " (5, u'practicable'),\n",
       " (5, u'plentiful'),\n",
       " (5, u'placed'),\n",
       " (5, u'physical'),\n",
       " (5, u'perceived'),\n",
       " (5, u'offsetting'),\n",
       " (5, u'nonperforming'),\n",
       " (5, u'nonfuel'),\n",
       " (5, u'nonfederal'),\n",
       " (5, u'miscellaneous'),\n",
       " (5, u'midwest'),\n",
       " (5, u'middle-market'),\n",
       " (5, u'mbs'),\n",
       " (5, u'managed'),\n",
       " (5, u'issued'),\n",
       " (5, u'intensifying'),\n",
       " (5, u'high-quality'),\n",
       " (5, u'high-priced'),\n",
       " (5, u'hesitant'),\n",
       " (5, u'hefty'),\n",
       " (5, u'goods-producing'),\n",
       " (5, u'geographic'),\n",
       " (5, u'gain'),\n",
       " (5, u'fuel'),\n",
       " (5, u'four-week'),\n",
       " (5, u'favored'),\n",
       " (5, u'fastest'),\n",
       " (5, u'fast'),\n",
       " (5, u'faced'),\n",
       " (5, u'extra'),\n",
       " (5, u'exact'),\n",
       " (5, u'evolved'),\n",
       " (5, u'discernible'),\n",
       " (5, u'demonstrated'),\n",
       " (5, u'democratic'),\n",
       " (5, u'curtailed'),\n",
       " (5, u'current-coupon'),\n",
       " (5, u'contrary'),\n",
       " (5, u'concomitant'),\n",
       " (5, u'compositional'),\n",
       " (5, u'completed'),\n",
       " (5, u'cash-flow'),\n",
       " (5, u'building'),\n",
       " (5, u'brighter'),\n",
       " (5, u'bound'),\n",
       " (5, u'backed'),\n",
       " (5, u'associate'),\n",
       " (5, u'architectural'),\n",
       " (5, u'appreciated'),\n",
       " (5, u'anemic'),\n",
       " (5, u'all-time'),\n",
       " (5, u'adjusting'),\n",
       " (5, u'1996'),\n",
       " (5, u'1.a'),\n",
       " (4, u'wrong'),\n",
       " (4, u'worst'),\n",
       " (4, u'weakest'),\n",
       " (4, u'unwound'),\n",
       " (4, u'unpredictable'),\n",
       " (4, u'underwater'),\n",
       " (4, u'undermine'),\n",
       " (4, u'undergird'),\n",
       " (4, u'unavailable'),\n",
       " (4, u'two-day'),\n",
       " (4, u'transparent'),\n",
       " (4, u'surging'),\n",
       " (4, u'suggestive'),\n",
       " (4, u'stricter'),\n",
       " (4, u'still-favorable'),\n",
       " (4, u'specialized'),\n",
       " (4, u'softer-than-expected'),\n",
       " (4, u'sixth'),\n",
       " (4, u'seasoned'),\n",
       " (4, u'risk-free'),\n",
       " (4, u'result'),\n",
       " ...]"
      ]
     },
     "execution_count": 25,
     "metadata": {},
     "output_type": "execute_result"
    }
   ],
   "source": [
    "dict_words = Counter(flattened_adj_vocab)\n",
    "list_words = []\n",
    "for key in dict_words:\n",
    "    list_words.append((dict_words[key], key))\n",
    "sorted(list_words, reverse=True)"
   ]
  },
  {
   "cell_type": "markdown",
   "metadata": {},
   "source": [
    "### Our Response Array"
   ]
  },
  {
   "cell_type": "code",
   "execution_count": 26,
   "metadata": {
    "collapsed": false
   },
   "outputs": [
    {
     "data": {
      "text/plain": [
       "52"
      ]
     },
     "execution_count": 26,
     "metadata": {},
     "output_type": "execute_result"
    }
   ],
   "source": [
    "with open(\"../data/actions_05-15.json\", \"rb\") as infile:\n",
    "    decisions = json.load(infile)\n",
    "len(decisions.keys())"
   ]
  },
  {
   "cell_type": "code",
   "execution_count": 27,
   "metadata": {
    "collapsed": false
   },
   "outputs": [
    {
     "data": {
      "text/plain": [
       "47"
      ]
     },
     "execution_count": 27,
     "metadata": {},
     "output_type": "execute_result"
    }
   ],
   "source": [
    "decisions_work = decisions.copy()\n",
    "new_decisions = {}\n",
    "for key in fomc_mins:\n",
    "    if key in decisions_work.keys():\n",
    "        new_decisions[key] = decisions_work[key][-1]\n",
    "        del decisions_work[key]\n",
    "        \n",
    "len(new_decisions)"
   ]
  },
  {
   "cell_type": "markdown",
   "metadata": {},
   "source": [
    "We now have a group of statements and decisions, where the statements are releases made at certain dates and decisions are interest rate decisions made at certain dates. We now group the statements between each decision into one string. For example, if a decision is made on 09/28/2014 and the next one is made on 10/18/2014, then the statements in between would be grouped together. This allows us to match the dimensions of our input and our output."
   ]
  },
  {
   "cell_type": "code",
   "execution_count": 28,
   "metadata": {
    "collapsed": true
   },
   "outputs": [],
   "source": [
    "for key in fomc_mins.keys():\n",
    "    if key < min(decisions.keys()):\n",
    "        del fomc_mins[key]"
   ]
  },
  {
   "cell_type": "code",
   "execution_count": 29,
   "metadata": {
    "collapsed": false
   },
   "outputs": [
    {
     "data": {
      "text/plain": [
       "103"
      ]
     },
     "execution_count": 29,
     "metadata": {},
     "output_type": "execute_result"
    }
   ],
   "source": [
    "len(fomc_mins)\n",
    "for key in fomc_mins.keys():\n",
    "    if key not in decisions.keys():\n",
    "        decisions[key] = [0,0,0,0,0]\n",
    "len(fomc_mins.keys())"
   ]
  },
  {
   "cell_type": "code",
   "execution_count": 31,
   "metadata": {
    "collapsed": false
   },
   "outputs": [
    {
     "data": {
      "text/plain": [
       "108"
      ]
     },
     "execution_count": 31,
     "metadata": {},
     "output_type": "execute_result"
    }
   ],
   "source": [
    "len(decisions)"
   ]
  },
  {
   "cell_type": "code",
   "execution_count": 112,
   "metadata": {
    "collapsed": false
   },
   "outputs": [
    {
     "data": {
      "text/plain": [
       "array([0, 0, 0, 0, 0, 0, 0, 0, 0, 0, 0, 0, 0, 0, 0, 1, 0, 1, 0, 0, 0, 0, 1,\n",
       "       0, 0, 0, 0, 0, 0, 0, 0, 0, 1, 0, 0, 0, 1, 0, 0, 0, 0, 0, 0, 0, 0, 0,\n",
       "       0, 0, 0, 1, 0, 1, 0, 0, 0, 0, 0, 0, 0, 1, 0, 0, 1, 0, 1, 0, 0, 0, 0,\n",
       "       1, 0, 0, 0, 0, 0, 0, 1, 0, 0, 0, 1, 1, 0, 0, 0, 0, 0, 0, 0, 1, 0, 0,\n",
       "       0, 1, 0, 0, 0, 0, 0, 0, 0, 1, 0])"
      ]
     },
     "execution_count": 112,
     "metadata": {},
     "output_type": "execute_result"
    }
   ],
   "source": [
    "X = []; y = []\n",
    "for key in fomc_mins.keys():\n",
    "    l = \"\"\n",
    "    adjs = fomc_parts[key][1]\n",
    "    for adjlist in adjs:\n",
    "        for a in adjlist:\n",
    "#             if dict_words[a] > 1000:\n",
    "            l = l + \" \" + a\n",
    "    X.append(l)\n",
    "    y.append(decisions[key][2])\n",
    "newy=[]\n",
    "for a in y:\n",
    "    if a == 0 or a == -1:\n",
    "        newy.append(0)\n",
    "    else:\n",
    "        newy.append(1)\n",
    "X = np.array(X)\n",
    "y = np.array(newy)\n",
    "y"
   ]
  },
  {
   "cell_type": "code",
   "execution_count": 33,
   "metadata": {
    "collapsed": true
   },
   "outputs": [],
   "source": [
    "from sklearn.cross_validation import train_test_split\n",
    "itrain, itest = train_test_split(xrange(len(X)), train_size=0.7)\n",
    "mask=np.ones(len(X), dtype='int')\n",
    "mask[itrain]=1\n",
    "mask[itest]=0\n",
    "mask = (mask==1)"
   ]
  },
  {
   "cell_type": "code",
   "execution_count": 34,
   "metadata": {
    "collapsed": true
   },
   "outputs": [],
   "source": [
    "def make_xy(X_col, y_col, vectorizer):\n",
    "    X = vectorizer.fit_transform(X_col)\n",
    "    y = y_col\n",
    "    return X, y"
   ]
  },
  {
   "cell_type": "code",
   "execution_count": 35,
   "metadata": {
    "collapsed": true
   },
   "outputs": [],
   "source": [
    "\"\"\"\n",
    "Function\n",
    "--------\n",
    "log_likelihood\n",
    "\n",
    "Compute the log likelihood of a dataset according to \n",
    "a Naive Bayes classifier. \n",
    "The Log Likelihood is defined by\n",
    "\n",
    "L = Sum_positive(logP(positive)) + Sum_negative(logP(negative))\n",
    "\n",
    "Where Sum_positive indicates a sum over all positive reviews, \n",
    "and Sum_negative indicates a sum over negative reviews\n",
    "    \n",
    "Parameters\n",
    "----------\n",
    "clf : Naive Bayes classifier\n",
    "x : (nexample, nfeature) array\n",
    "    The input data\n",
    "y : (nexample) integer array\n",
    "    Whether each review is Fresh\n",
    "\"\"\"\n",
    "def log_likelihood(clf, x, y):\n",
    "    prob = clf.predict_log_proba(x)\n",
    "    rotten = y == 0\n",
    "    fresh = ~rotten\n",
    "    return prob[rotten,0].sum() + prob[fresh,1].sum()"
   ]
  },
  {
   "cell_type": "code",
   "execution_count": 36,
   "metadata": {
    "collapsed": true
   },
   "outputs": [],
   "source": [
    "from sklearn.cross_validation import KFold\n",
    "\n",
    "def cv_score(clf, x, y, score_func, nfold=5):\n",
    "    \"\"\"\n",
    "    Uses 5-fold cross validation to estimate a score of a classifier\n",
    "    \n",
    "    Inputs\n",
    "    ------\n",
    "    clf : Classifier object\n",
    "    x : Input feature vector\n",
    "    y : Input class labels\n",
    "    score_func : Function like log_likelihood, that takes (clf, x, y) as input,\n",
    "                 and returns a score\n",
    "                 \n",
    "    Returns\n",
    "    -------\n",
    "    The average score obtained by splitting (x, y) into 5 folds of training and \n",
    "    test sets, fitting on the training set, and evaluating score_func on the test set\n",
    "    \n",
    "    Examples\n",
    "    cv_score(clf, x, y, log_likelihood)\n",
    "    \"\"\"\n",
    "    result = 0\n",
    "    for train, test in KFold(y.size, nfold): # split data into train/test groups, 5 times\n",
    "        clf.fit(x[train], y[train]) # fit\n",
    "        result += score_func(clf, x[test], y[test]) # evaluate score function on held-out data\n",
    "    return result / nfold # average"
   ]
  },
  {
   "cell_type": "code",
   "execution_count": 37,
   "metadata": {
    "collapsed": true
   },
   "outputs": [],
   "source": [
    "from sklearn.feature_extraction.text import CountVectorizer\n",
    "from sklearn.naive_bayes import MultinomialNB"
   ]
  },
  {
   "cell_type": "code",
   "execution_count": 38,
   "metadata": {
    "collapsed": false
   },
   "outputs": [],
   "source": [
    "alphas = [0, .1, 1, 5, 10, 50]\n",
    "min_dfs = [1e-5, 1e-4, 1e-3, 1e-2, 1e-1]\n",
    "maxi = -np.inf; best_alpha = 0; best_min_df = 0\n",
    "for m in min_dfs:\n",
    "    for a in alphas:\n",
    "        vectorizer = CountVectorizer(vocabulary=adjvocab, min_df = m) \n",
    "        x_new, y_new = make_xy(X,y,vectorizer)\n",
    "        Xtrainthis=x_new[mask]\n",
    "        ytrainthis=y_new[mask]\n",
    "        clf = MultinomialNB(alpha=a)\n",
    "        score = cv_score(clf, Xtrainthis, np.ravel(ytrainthis), log_likelihood)\n",
    "        if (score > maxi):\n",
    "            maxi = score\n",
    "            best_alpha = a\n",
    "            best_min_df = m"
   ]
  },
  {
   "cell_type": "code",
   "execution_count": 39,
   "metadata": {
    "collapsed": false
   },
   "outputs": [
    {
     "name": "stdout",
     "output_type": "stream",
     "text": [
      "alpha: 0.100000\n",
      "min_df: 0.000010\n"
     ]
    }
   ],
   "source": [
    "print \"alpha: %f\" % best_alpha\n",
    "print \"min_df: %f\" % best_min_df"
   ]
  },
  {
   "cell_type": "code",
   "execution_count": 40,
   "metadata": {
    "collapsed": false
   },
   "outputs": [
    {
     "name": "stdout",
     "output_type": "stream",
     "text": [
      "Accuracy on training data: 0.9444\n",
      "Accuracy on test data:     0.9355\n"
     ]
    }
   ],
   "source": [
    "vectorizer = CountVectorizer(vocabulary=adjvocab, min_df=best_min_df)\n",
    "Xnew, ynew = make_xy(X, y, vectorizer)\n",
    "xtrain=Xnew[mask]\n",
    "ytrain=ynew[mask]\n",
    "xtest=Xnew[~mask]\n",
    "ytest=ynew[~mask]\n",
    "\n",
    "clf = MultinomialNB(alpha=best_alpha).fit(xtrain, ytrain)\n",
    "\n",
    "training_accuracy = clf.score(xtrain, ytrain)\n",
    "test_accuracy = clf.score(xtest, ytest)\n",
    "\n",
    "print \"Accuracy on training data: %0.4f\" % (training_accuracy)\n",
    "print \"Accuracy on test data:     %0.4f\" % (test_accuracy)\n",
    "\n"
   ]
  },
  {
   "cell_type": "markdown",
   "metadata": {},
   "source": [
    "*Comment on this*"
   ]
  },
  {
   "cell_type": "markdown",
   "metadata": {},
   "source": [
    "Compare to baseline:"
   ]
  },
  {
   "cell_type": "code",
   "execution_count": 52,
   "metadata": {
    "collapsed": false
   },
   "outputs": [
    {
     "name": "stdout",
     "output_type": "stream",
     "text": [
      "Baseline percentage is 86 / 108 = 0.796296296296\n"
     ]
    }
   ],
   "source": [
    "base_count1 = sum([1 for e in y if e == 0])\n",
    "base_pct1 = base_count1/float(len(decisions))\n",
    "print \"Baseline percentage is\", base_count1, \"/\", len(decisions), \"=\", base_pct1"
   ]
  },
  {
   "cell_type": "markdown",
   "metadata": {},
   "source": [
    "#### 2.2: Most discriminative features"
   ]
  },
  {
   "cell_type": "markdown",
   "metadata": {},
   "source": [
    "What are the most discriminative features according to our classifier? The visualization belows shows the top 10 features in terms of the differences between their positive and negative log probabilities for classification."
   ]
  },
  {
   "cell_type": "code",
   "execution_count": 53,
   "metadata": {
    "collapsed": false
   },
   "outputs": [
    {
     "name": "stdout",
     "output_type": "stream",
     "text": [
      "[(5.8436723315927628, u'backed'), (5.6489585851079998, u'flush'), (5.6253416026973087, u'mortgage'), (5.2594938183462769, u'refined'), (5.2594938183462769, u'mindful'), (5.2594938183462769, u'attendant'), (4.7037238383976163, u'gross'), (4.612866653421225, u'upgrade'), (4.612866653421225, u'unseasonable'), (4.612866653421225, u'unfortunate'), (4.612866653421225, u'unacceptable'), (4.612866653421225, u'tightening'), (4.612866653421225, u'temperate'), (4.612866653421225, u'technological'), (4.612866653421225, u'sturdy'), (4.612866653421225, u'steadfast'), (4.612866653421225, u'stated'), (4.612866653421225, u'softened'), (4.612866653421225, u'slowed'), (4.612866653421225, u'relocated')]\n"
     ]
    }
   ],
   "source": [
    "features_list = vectorizer.get_feature_names()\n",
    "feature_probs = clf.feature_log_prob_\n",
    "lognegatives = {}; logpositives = {}; i = 0\n",
    "positives = []\n",
    "negatives = []\n",
    "difference = []\n",
    "\n",
    "for a in features_list:\n",
    "    lognegatives[a] = feature_probs[0][i]\n",
    "    logpositives[a] = feature_probs[1][i]\n",
    "    positives.append((feature_probs[0][i],a))\n",
    "    negatives.append((feature_probs[1][i],a))\n",
    "    difference.append((abs(feature_probs[0][i] - feature_probs[1][i]),a))\n",
    "    i += 1\n",
    "\n",
    "sorted_p = sorted(difference, reverse=True)\n",
    "print sorted_p[:20]\n"
   ]
  },
  {
   "cell_type": "code",
   "execution_count": 118,
   "metadata": {
    "collapsed": false,
    "scrolled": true
   },
   "outputs": [
    {
     "data": {
      "text/plain": [
       "(-1, 20)"
      ]
     },
     "execution_count": 118,
     "metadata": {},
     "output_type": "execute_result"
    },
    {
     "data": {
      "image/png": "[encoded data removed]",
      "text/plain": [
       "<matplotlib.figure.Figure at 0x29ed37f0>"
      ]
     },
     "metadata": {},
     "output_type": "display_data"
    }
   ],
   "source": [
    "FTSZ = 24;\n",
    "\n",
    "y_pdwords = [a[0] for a in sorted_p[:20]]\n",
    "x_pdwords = [a[1] for a in sorted_p[:20]]\n",
    "numbers = np.arange(len(x_pdwords))\n",
    "width = 0.3\n",
    "fig = plt.figure(figsize=(20,15))\n",
    "ax = fig.add_subplot(111)\n",
    "ax.bar(numbers,y_pdwords, align='center')\n",
    "ax.set_xticks(numbers)\n",
    "ax.set_xticklabels(x_pdwords, rotation='vertical', ha='right');\n",
    "ax.set_xlabel(\"Top 20 words\", fontsize=FTSZ+12)\n",
    "ax.tick_params(labelsize=FTSZ)\n",
    "ax.set_ylabel(\"Absolute difference between log + and - probs \", fontsize=FTSZ+12)\n",
    "ax.set_title(\"Most discriminative words\", fontsize=FTSZ+16);\n",
    "ax.set_xlim(-1,len(numbers))"
   ]
  },
  {
   "cell_type": "markdown",
   "metadata": {},
   "source": [
    "Comment on the visualization. Is it what we thouht it would be?"
   ]
  },
  {
   "cell_type": "markdown",
   "metadata": {},
   "source": [
    "## Part 3: Second Approach: Using the Loughran-McDonald Financial Dictionary"
   ]
  },
  {
   "cell_type": "markdown",
   "metadata": {},
   "source": [
    "### 3.1: Adjusting the dictionary for our needs"
   ]
  },
  {
   "cell_type": "markdown",
   "metadata": {},
   "source": [
    "Our first approach assigned probabilities to words based on the training set of FOMC statements we have. However, the success of this is limited by the number of FOMC statements (182) that we have access to. We can improve this analysis by using more accurate probabilities given by a dictionary that focuses on finance. The **Loughran-McDonald 2014 Master Dictionary** is a great tool for our purposes as it includes words that often appear in 10-K documents and other financial statements. The dictionary includes 9 sentiment categories, including \"negative\", \"positive\", \"uncertainty\", \"litigious\", \"modal\", and \"constraining\", among others. The categories given by this dictionary are more useful to us because of the sheer size of the data set used."
   ]
  },
  {
   "cell_type": "markdown",
   "metadata": {},
   "source": [
    "We read in the data. Below is an example of the data encapsulated in $lmdf$."
   ]
  },
  {
   "cell_type": "code",
   "execution_count": 96,
   "metadata": {
    "collapsed": false
   },
   "outputs": [
    {
     "data": {
      "text/html": [
       "<div>\n",
       "<table border=\"1\" class=\"dataframe\">\n",
       "  <thead>\n",
       "    <tr style=\"text-align: right;\">\n",
       "      <th></th>\n",
       "      <th>Word</th>\n",
       "      <th>Sequence Number</th>\n",
       "      <th>Word Count</th>\n",
       "      <th>Word Proportion</th>\n",
       "      <th>Average Proportion</th>\n",
       "      <th>Std Dev</th>\n",
       "      <th>Doc Count</th>\n",
       "      <th>Negative</th>\n",
       "      <th>Positive</th>\n",
       "      <th>Uncertainty</th>\n",
       "      <th>Litigious</th>\n",
       "      <th>Constraining</th>\n",
       "      <th>Superfluous</th>\n",
       "      <th>Interesting</th>\n",
       "      <th>Modal</th>\n",
       "      <th>Irr_Verb</th>\n",
       "      <th>Harvard_IV</th>\n",
       "      <th>Syllables</th>\n",
       "      <th>Source</th>\n",
       "    </tr>\n",
       "  </thead>\n",
       "  <tbody>\n",
       "    <tr>\n",
       "      <th>0</th>\n",
       "      <td>ENCUMBER</td>\n",
       "      <td>24454</td>\n",
       "      <td>87222</td>\n",
       "      <td>6.130000e-06</td>\n",
       "      <td>2.570000e-06</td>\n",
       "      <td>0.000017</td>\n",
       "      <td>44863</td>\n",
       "      <td>2009</td>\n",
       "      <td>0</td>\n",
       "      <td>0</td>\n",
       "      <td>2009</td>\n",
       "      <td>2009</td>\n",
       "      <td>0</td>\n",
       "      <td>0</td>\n",
       "      <td>0</td>\n",
       "      <td>0</td>\n",
       "      <td>0</td>\n",
       "      <td>3</td>\n",
       "      <td>12of12inf</td>\n",
       "    </tr>\n",
       "    <tr>\n",
       "      <th>1</th>\n",
       "      <td>ENCUMBERED</td>\n",
       "      <td>24455</td>\n",
       "      <td>86996</td>\n",
       "      <td>6.110000e-06</td>\n",
       "      <td>3.480000e-06</td>\n",
       "      <td>0.000028</td>\n",
       "      <td>44409</td>\n",
       "      <td>2009</td>\n",
       "      <td>0</td>\n",
       "      <td>0</td>\n",
       "      <td>2009</td>\n",
       "      <td>2009</td>\n",
       "      <td>0</td>\n",
       "      <td>0</td>\n",
       "      <td>0</td>\n",
       "      <td>0</td>\n",
       "      <td>0</td>\n",
       "      <td>3</td>\n",
       "      <td>12of12inf</td>\n",
       "    </tr>\n",
       "    <tr>\n",
       "      <th>2</th>\n",
       "      <td>ENCUMBERING</td>\n",
       "      <td>24456</td>\n",
       "      <td>51445</td>\n",
       "      <td>3.610000e-06</td>\n",
       "      <td>3.660000e-06</td>\n",
       "      <td>0.000050</td>\n",
       "      <td>19907</td>\n",
       "      <td>2009</td>\n",
       "      <td>0</td>\n",
       "      <td>0</td>\n",
       "      <td>2009</td>\n",
       "      <td>2009</td>\n",
       "      <td>0</td>\n",
       "      <td>0</td>\n",
       "      <td>0</td>\n",
       "      <td>0</td>\n",
       "      <td>0</td>\n",
       "      <td>4</td>\n",
       "      <td>12of12inf</td>\n",
       "    </tr>\n",
       "    <tr>\n",
       "      <th>3</th>\n",
       "      <td>ENCUMBERS</td>\n",
       "      <td>24457</td>\n",
       "      <td>4835</td>\n",
       "      <td>3.400000e-07</td>\n",
       "      <td>1.380000e-07</td>\n",
       "      <td>0.000004</td>\n",
       "      <td>3258</td>\n",
       "      <td>2009</td>\n",
       "      <td>0</td>\n",
       "      <td>0</td>\n",
       "      <td>2009</td>\n",
       "      <td>2009</td>\n",
       "      <td>0</td>\n",
       "      <td>0</td>\n",
       "      <td>0</td>\n",
       "      <td>0</td>\n",
       "      <td>0</td>\n",
       "      <td>3</td>\n",
       "      <td>12of12inf</td>\n",
       "    </tr>\n",
       "    <tr>\n",
       "      <th>4</th>\n",
       "      <td>ENCUMBRANCE</td>\n",
       "      <td>24458</td>\n",
       "      <td>223181</td>\n",
       "      <td>1.570000e-05</td>\n",
       "      <td>6.260000e-06</td>\n",
       "      <td>0.000036</td>\n",
       "      <td>72129</td>\n",
       "      <td>2009</td>\n",
       "      <td>0</td>\n",
       "      <td>0</td>\n",
       "      <td>2009</td>\n",
       "      <td>2009</td>\n",
       "      <td>0</td>\n",
       "      <td>0</td>\n",
       "      <td>0</td>\n",
       "      <td>0</td>\n",
       "      <td>0</td>\n",
       "      <td>3</td>\n",
       "      <td>12of12inf</td>\n",
       "    </tr>\n",
       "  </tbody>\n",
       "</table>\n",
       "</div>"
      ],
      "text/plain": [
       "          Word  Sequence Number  Word Count  Word Proportion  \\\n",
       "0     ENCUMBER            24454       87222     6.130000e-06   \n",
       "1   ENCUMBERED            24455       86996     6.110000e-06   \n",
       "2  ENCUMBERING            24456       51445     3.610000e-06   \n",
       "3    ENCUMBERS            24457        4835     3.400000e-07   \n",
       "4  ENCUMBRANCE            24458      223181     1.570000e-05   \n",
       "\n",
       "   Average Proportion   Std Dev  Doc Count  Negative  Positive  Uncertainty  \\\n",
       "0        2.570000e-06  0.000017      44863      2009         0            0   \n",
       "1        3.480000e-06  0.000028      44409      2009         0            0   \n",
       "2        3.660000e-06  0.000050      19907      2009         0            0   \n",
       "3        1.380000e-07  0.000004       3258      2009         0            0   \n",
       "4        6.260000e-06  0.000036      72129      2009         0            0   \n",
       "\n",
       "   Litigious  Constraining  Superfluous  Interesting  Modal  Irr_Verb  \\\n",
       "0       2009          2009            0            0      0         0   \n",
       "1       2009          2009            0            0      0         0   \n",
       "2       2009          2009            0            0      0         0   \n",
       "3       2009          2009            0            0      0         0   \n",
       "4       2009          2009            0            0      0         0   \n",
       "\n",
       "   Harvard_IV  Syllables     Source  \n",
       "0           0          3  12of12inf  \n",
       "1           0          3  12of12inf  \n",
       "2           0          4  12of12inf  \n",
       "3           0          3  12of12inf  \n",
       "4           0          3  12of12inf  "
      ]
     },
     "execution_count": 96,
     "metadata": {},
     "output_type": "execute_result"
    }
   ],
   "source": [
    "lmdf = pd.read_csv(\"../data/shortMcDonaldDictionary.csv\")\n",
    "lmdf.head()"
   ]
  },
  {
   "cell_type": "code",
   "execution_count": 97,
   "metadata": {
    "collapsed": false
   },
   "outputs": [],
   "source": [
    "lmdf = lmdf[[\"Word\",\"Negative\",\"Positive\",\"Uncertainty\",\"Litigious\",\"Constraining\"]]"
   ]
  },
  {
   "cell_type": "code",
   "execution_count": 98,
   "metadata": {
    "collapsed": false
   },
   "outputs": [
    {
     "data": {
      "text/html": [
       "<div>\n",
       "<table border=\"1\" class=\"dataframe\">\n",
       "  <thead>\n",
       "    <tr style=\"text-align: right;\">\n",
       "      <th></th>\n",
       "      <th>Word</th>\n",
       "      <th>Negative</th>\n",
       "      <th>Positive</th>\n",
       "      <th>Uncertainty</th>\n",
       "      <th>Litigious</th>\n",
       "      <th>Constraining</th>\n",
       "    </tr>\n",
       "  </thead>\n",
       "  <tbody>\n",
       "    <tr>\n",
       "      <th>0</th>\n",
       "      <td>ENCUMBER</td>\n",
       "      <td>2009</td>\n",
       "      <td>0</td>\n",
       "      <td>0</td>\n",
       "      <td>2009</td>\n",
       "      <td>2009</td>\n",
       "    </tr>\n",
       "    <tr>\n",
       "      <th>1</th>\n",
       "      <td>ENCUMBERED</td>\n",
       "      <td>2009</td>\n",
       "      <td>0</td>\n",
       "      <td>0</td>\n",
       "      <td>2009</td>\n",
       "      <td>2009</td>\n",
       "    </tr>\n",
       "    <tr>\n",
       "      <th>2</th>\n",
       "      <td>ENCUMBERING</td>\n",
       "      <td>2009</td>\n",
       "      <td>0</td>\n",
       "      <td>0</td>\n",
       "      <td>2009</td>\n",
       "      <td>2009</td>\n",
       "    </tr>\n",
       "    <tr>\n",
       "      <th>3</th>\n",
       "      <td>ENCUMBERS</td>\n",
       "      <td>2009</td>\n",
       "      <td>0</td>\n",
       "      <td>0</td>\n",
       "      <td>2009</td>\n",
       "      <td>2009</td>\n",
       "    </tr>\n",
       "    <tr>\n",
       "      <th>4</th>\n",
       "      <td>ENCUMBRANCE</td>\n",
       "      <td>2009</td>\n",
       "      <td>0</td>\n",
       "      <td>0</td>\n",
       "      <td>2009</td>\n",
       "      <td>2009</td>\n",
       "    </tr>\n",
       "  </tbody>\n",
       "</table>\n",
       "</div>"
      ],
      "text/plain": [
       "          Word  Negative  Positive  Uncertainty  Litigious  Constraining\n",
       "0     ENCUMBER      2009         0            0       2009          2009\n",
       "1   ENCUMBERED      2009         0            0       2009          2009\n",
       "2  ENCUMBERING      2009         0            0       2009          2009\n",
       "3    ENCUMBERS      2009         0            0       2009          2009\n",
       "4  ENCUMBRANCE      2009         0            0       2009          2009"
      ]
     },
     "execution_count": 98,
     "metadata": {},
     "output_type": "execute_result"
    }
   ],
   "source": [
    "lmdf.head()"
   ]
  },
  {
   "cell_type": "markdown",
   "metadata": {},
   "source": [
    "The dictionary includes 9 sentiment categories (e.g. \"negative\", \"positive\", \"uncertainty\", \"litigious\", \"modal\", and \"constraining\"). We reduce the dimensionality of this data down to just three categories: \"negative\", \"positive\", and \"uncertain\". A $word$ that is \"uncertain\" is assigned the probabilities $$P(word_u\\,|\\,-)=P(word_u\\,|\\,+)=\\frac{1}{2}$$\n",
    "We set words in the \"positive\" and \"negative\" parts to have 90% probabilities of being in the group they are assigned to (based on the average probability given by Loughran and McDonald).\n",
    "$$P(word_p\\,|\\,+) = 0.9, P(word_p\\,|\\,-) = 0.1$$\n",
    "$$P(word_n\\,|\\,-) = 0.1, P(word_n\\,|\\,-) = 0.9$$"
   ]
  },
  {
   "cell_type": "markdown",
   "metadata": {},
   "source": [
    "We adjust $lmdf$ to reflect these decisions."
   ]
  },
  {
   "cell_type": "code",
   "execution_count": 99,
   "metadata": {
    "collapsed": false
   },
   "outputs": [
    {
     "data": {
      "text/html": [
       "<div>\n",
       "<table border=\"1\" class=\"dataframe\">\n",
       "  <thead>\n",
       "    <tr style=\"text-align: right;\">\n",
       "      <th></th>\n",
       "      <th>Word</th>\n",
       "      <th>Positive Prob</th>\n",
       "      <th>Negative Prob</th>\n",
       "    </tr>\n",
       "  </thead>\n",
       "  <tbody>\n",
       "    <tr>\n",
       "      <th>0</th>\n",
       "      <td>encumber</td>\n",
       "      <td>0.1</td>\n",
       "      <td>0.9</td>\n",
       "    </tr>\n",
       "    <tr>\n",
       "      <th>1</th>\n",
       "      <td>encumbered</td>\n",
       "      <td>0.1</td>\n",
       "      <td>0.9</td>\n",
       "    </tr>\n",
       "    <tr>\n",
       "      <th>2</th>\n",
       "      <td>encumbering</td>\n",
       "      <td>0.1</td>\n",
       "      <td>0.9</td>\n",
       "    </tr>\n",
       "    <tr>\n",
       "      <th>3</th>\n",
       "      <td>encumbers</td>\n",
       "      <td>0.1</td>\n",
       "      <td>0.9</td>\n",
       "    </tr>\n",
       "    <tr>\n",
       "      <th>4</th>\n",
       "      <td>encumbrance</td>\n",
       "      <td>0.1</td>\n",
       "      <td>0.9</td>\n",
       "    </tr>\n",
       "  </tbody>\n",
       "</table>\n",
       "</div>"
      ],
      "text/plain": [
       "          Word  Positive Prob  Negative Prob\n",
       "0     encumber            0.1            0.9\n",
       "1   encumbered            0.1            0.9\n",
       "2  encumbering            0.1            0.9\n",
       "3    encumbers            0.1            0.9\n",
       "4  encumbrance            0.1            0.9"
      ]
     },
     "execution_count": 99,
     "metadata": {},
     "output_type": "execute_result"
    }
   ],
   "source": [
    "lmdf_adjusted = lmdf.copy(deep=True)\n",
    "N = 0; P = 0\n",
    "new_values = [0 for i in range(len(lmdf_adjusted.values))]\n",
    "for i, r in enumerate(lmdf_adjusted.values):\n",
    "    if r[1] > 0 or r[4] > 0 or r[5] > 0:\n",
    "        N = 0.9; P = 0.1\n",
    "    elif r[2] > 0:\n",
    "        N = 0.1; P = 0.9\n",
    "    elif r[3] > 0:\n",
    "        N = 0.5; P = 0.5\n",
    "    new_values[i] = [r[0].lower(), P, N]\n",
    "\n",
    "final_lmdf = pd.DataFrame(new_values, index=lmdf_adjusted.index, columns = [\"Word\", \"Positive Prob\", \"Negative Prob\"])\n",
    "final_lmdf.head()"
   ]
  },
  {
   "cell_type": "markdown",
   "metadata": {},
   "source": [
    "We define a function to calculate the probability of a sentence being positive."
   ]
  },
  {
   "cell_type": "code",
   "execution_count": 102,
   "metadata": {
    "collapsed": false
   },
   "outputs": [],
   "source": [
    "dict_probs = {}\n",
    "for row in final_lmdf.values:\n",
    "    dict_probs[row[0]] = [row[1], row[2]]"
   ]
  },
  {
   "cell_type": "code",
   "execution_count": 103,
   "metadata": {
    "collapsed": false
   },
   "outputs": [],
   "source": [
    "statements = []\n",
    "for key in fomc_mins.keys():\n",
    "    adj = fomc_parts[key][1]\n",
    "    statements.append(adj)"
   ]
  },
  {
   "cell_type": "markdown",
   "metadata": {},
   "source": [
    "### 3.2: Most positive and most negative sentences"
   ]
  },
  {
   "cell_type": "markdown",
   "metadata": {},
   "source": [
    "Potential commentary: We can find the most \"positive\" and most \"negative\" sentences and comment on that."
   ]
  },
  {
   "cell_type": "code",
   "execution_count": null,
   "metadata": {
    "collapsed": true
   },
   "outputs": [],
   "source": []
  },
  {
   "cell_type": "markdown",
   "metadata": {},
   "source": [
    "### 3.3: Classification using new probabilities"
   ]
  },
  {
   "cell_type": "markdown",
   "metadata": {
    "collapsed": true
   },
   "source": [
    "We define a function that calculates the probability of a statement being positive or negative. The function calculates the probability of each sentence being positive or negative and then sums up the total probabilities. Finally, it normalizes the overall probability."
   ]
  },
  {
   "cell_type": "code",
   "execution_count": 113,
   "metadata": {
    "collapsed": true
   },
   "outputs": [],
   "source": [
    "def modified_calc_pplus(adjlist, dict_probs, lp, ln, pp, pn):\n",
    "    FACTOR = 1\n",
    "    \n",
    "    prob_p = 0; prob_n = 0\n",
    "    for adj in adjlist:\n",
    "        # Check if the adjective is in the financial dictionary\n",
    "        # If it is take, probability from there\n",
    "        if adj.lower() in dict_probs.keys():\n",
    "            prob_p += np.log10(FACTOR * dict_probs[adj][0])\n",
    "            prob_n += np.log10(FACTOR * dict_probs[adj][1])\n",
    "        else:\n",
    "            prob_p += lp[adj]\n",
    "            prob_n += ln[adj]\n",
    "    prob_pos = (10**prob_p) * pp\n",
    "    prob_neg = (10**prob_n) * pn\n",
    "    prob = float(prob_pos)/(prob_pos + prob_neg)\n",
    "    return prob"
   ]
  },
  {
   "cell_type": "code",
   "execution_count": 114,
   "metadata": {
    "collapsed": true
   },
   "outputs": [],
   "source": [
    "def statement_prob_pos(statement, adjlist, dict_probs, lp, ln, pp, pn):\n",
    "    prob_p = 0; prob_n = 0\n",
    "    for sent in statement:\n",
    "        prob_p += np.log10(modified_calc_pplus(sent, dict_probs, lp, ln, pp, pn))\n",
    "        prob_n += np.log10(1-modified_calc_pplus(sent, dict_probs, lp, ln, pp, pn))\n",
    "    prob_pos = (10**prob_p) * pp\n",
    "    prob_neg = (10**prob_n) * pn\n",
    "    prob = float(prob_pos)/(prob_pos + prob_neg)\n",
    "    return prob"
   ]
  },
  {
   "cell_type": "code",
   "execution_count": 115,
   "metadata": {
    "collapsed": false
   },
   "outputs": [
    {
     "data": {
      "text/plain": [
       "1.4850498758446296e-94"
      ]
     },
     "execution_count": 115,
     "metadata": {},
     "output_type": "execute_result"
    }
   ],
   "source": [
    "statement_prob_pos(statements[2], adjlist, dict_probs, logpositives, lognegatives, np.mean(y), 1-np.mean(y))"
   ]
  },
  {
   "cell_type": "code",
   "execution_count": 116,
   "metadata": {
    "collapsed": false
   },
   "outputs": [
    {
     "data": {
      "text/plain": [
       "array([0, 0, 0, 0, 0, 0, 0, 0, 0, 0, 0, 0, 0, 0, 0, 1, 0, 1, 0, 0, 0, 0, 1,\n",
       "       0, 0, 0, 0, 0, 0, 0, 0, 0, 1, 0, 0, 0, 1, 0, 0, 0, 0, 0, 0, 0, 0, 0,\n",
       "       0, 0, 0, 1, 0, 1, 0, 0, 0, 0, 0, 0, 0, 1, 0, 0, 1, 0, 1, 0, 0, 0, 0,\n",
       "       1, 0, 0, 0, 0, 0, 0, 1, 0, 0, 0, 1, 1, 0, 0, 0, 0, 0, 0, 0, 1, 0, 0,\n",
       "       0, 1, 0, 0, 0, 0, 0, 0, 0, 1, 0])"
      ]
     },
     "execution_count": 116,
     "metadata": {},
     "output_type": "execute_result"
    }
   ],
   "source": [
    "y"
   ]
  },
  {
   "cell_type": "code",
   "execution_count": 117,
   "metadata": {
    "collapsed": false,
    "scrolled": true
   },
   "outputs": [
    {
     "name": "stdout",
     "output_type": "stream",
     "text": [
      "Wall time: 1min 29s\n"
     ]
    }
   ],
   "source": [
    "%%time\n",
    "X_full = []; y_full = []; our_results = []\n",
    "for key in fomc_mins.keys():\n",
    "    adjs = fomc_parts[key][1]\n",
    "    X_full.append(adjs)\n",
    "    y_full.append(decisions[key][2])\n",
    "    prob = statement_prob_pos(adjs, adjlist, dict_probs, logpositives, lognegatives, np.mean(y), 1-np.mean(y))\n",
    "    if prob <= 0.5:\n",
    "        prob = 0\n",
    "    else:\n",
    "        prob = 1\n",
    "    our_results.append(prob)"
   ]
  },
  {
   "cell_type": "code",
   "execution_count": 126,
   "metadata": {
    "collapsed": false
   },
   "outputs": [
    {
     "name": "stdout",
     "output_type": "stream",
     "text": [
      "Our classfier accuracy score: 0.980582524272\n"
     ]
    }
   ],
   "source": [
    "correct = 0\n",
    "for i in range(len(y_full)):\n",
    "    if y_full[i] == -1:\n",
    "        y_full[i] = 0\n",
    "    if y_full[i] == our_results[i]:\n",
    "        correct += 1\n",
    "    score = float(correct)/len(y_full)\n",
    "print \"Our classfier accuracy score:\", score"
   ]
  },
  {
   "cell_type": "code",
   "execution_count": 128,
   "metadata": {
    "collapsed": false
   },
   "outputs": [
    {
     "name": "stdout",
     "output_type": "stream",
     "text": [
      "Incorrect dates: [u'20060808', u'20070628']\n"
     ]
    }
   ],
   "source": [
    "# print our_results\n",
    "# print y_full\n",
    "\n",
    "wrong_fomc_pred1 = []\n",
    "\n",
    "for i in range(1,len(y_full)):\n",
    "    if y_full[i] != our_results[i]:\n",
    "        wrong_fomc_pred1.append(fomc_mins.keys()[i])\n",
    "\n",
    "print \"Incorrect dates:\", wrong_fomc_pred1"
   ]
  },
  {
   "cell_type": "code",
   "execution_count": 133,
   "metadata": {
    "collapsed": false
   },
   "outputs": [
    {
     "name": "stdout",
     "output_type": "stream",
     "text": [
      "Number of 1s in reality: 17\n",
      "Number of 1s in model:   19\n"
     ]
    }
   ],
   "source": [
    "print \"Number of 1s in reality:\", sum(y_full)\n",
    "print \"Number of 1s in model:  \", sum(our_results)"
   ]
  },
  {
   "cell_type": "markdown",
   "metadata": {},
   "source": [
    "## Part 4: \"Directional Policy\": Lengths of Statements and Federal Reserve Policy"
   ]
  },
  {
   "cell_type": "markdown",
   "metadata": {},
   "source": [
    "### 4.1: Regressing outcome against length"
   ]
  },
  {
   "cell_type": "markdown",
   "metadata": {},
   "source": [
    "The Federal Reserve has claimed at several points in the past decade that it attempts to affect financial markets (especially post-crisis) through the release of increasingly long statements that help outline and bring about the changes it hopes for. We take this as a launch pad for another potential statistical analysis that may turn out to be useful for our work. We examine the relationship between the length of statements and their outcomes."
   ]
  },
  {
   "cell_type": "markdown",
   "metadata": {},
   "source": [
    "Indeed, the length of statements varies greatly from statement to statement. For example, let us compare two statements from 2014 and 2002."
   ]
  },
  {
   "cell_type": "code",
   "execution_count": 134,
   "metadata": {
    "collapsed": false
   },
   "outputs": [
    {
     "name": "stdout",
     "output_type": "stream",
     "text": [
      "53905 22899\n"
     ]
    }
   ],
   "source": [
    "print len(pq(fomc_mins['20140730']).text()), len(pq(fomc_mins['20021210']).text())"
   ]
  },
  {
   "cell_type": "markdown",
   "metadata": {},
   "source": [
    "The statement from 2014 is twice as long as that of 2002 (this is line with the Fed's promise of more locquacious public statements)."
   ]
  },
  {
   "cell_type": "markdown",
   "metadata": {},
   "source": [
    "This is pattern is even more striking when we visualize it as shown below."
   ]
  },
  {
   "cell_type": "code",
   "execution_count": 178,
   "metadata": {
    "collapsed": true
   },
   "outputs": [],
   "source": [
    "\"\"\"\n",
    "moving average code courtsey of\n",
    "http://stackoverflow.com/questions/11352047/finding-moving-average-from-data-points-in-python\n",
    "\"\"\"\n",
    "def movingaverage(interval, window_size=5):\n",
    "    window = np.ones(int(window_size))/float(window_size)\n",
    "    return np.convolve(interval, window, 'valid')"
   ]
  },
  {
   "cell_type": "code",
   "execution_count": 186,
   "metadata": {
    "collapsed": false
   },
   "outputs": [],
   "source": [
    "length_time = [(key, len(pq(fomc_mins[key]).text())) \n",
    "               for key in fomc_mins.keys()]\n",
    "    \n",
    "sorted_length = sorted(length_time)\n",
    "\n",
    "length_time_df = pd.DataFrame(sorted_length, columns = [\"Date\", \"Length\"])\n",
    "length_time_df.head()\n",
    "\n",
    "a_win_sz = 10\n",
    "b_win_sz = 30\n",
    "\n",
    "lt_mvga_a = movingaverage(length_time_df[\"Length\"], a_win_sz)\n",
    "lt_mvga_b = movingaverage(length_time_df[\"Length\"], b_win_sz)"
   ]
  },
  {
   "cell_type": "code",
   "execution_count": null,
   "metadata": {
    "collapsed": true
   },
   "outputs": [],
   "source": []
  },
  {
   "cell_type": "code",
   "execution_count": 192,
   "metadata": {
    "collapsed": false
   },
   "outputs": [
    {
     "data": {
      "image/png": "[encoded data removed]",
      "text/plain": [
       "<matplotlib.figure.Figure at 0x29b82588>"
      ]
     },
     "metadata": {},
     "output_type": "display_data"
    }
   ],
   "source": [
    "# plot the data\n",
    "\n",
    "width = 0.3\n",
    "fig = plt.figure(figsize=(20,15), facecolor='white')\n",
    "\n",
    "ax = fig.add_subplot(111)\n",
    "\n",
    "ax.plot(range(len(length_time_df)), length_time_df[\"Length\"],alpha=0.5);\n",
    "ax.plot(range(a_win_sz/2,len(lt_mvga_a)+a_win_sz/2), lt_mvga_a, color=\"red\", linestyle=\"-\");\n",
    "ax.plot(range(b_win_sz/2,len(lt_mvga_b)+b_win_sz/2), lt_mvga_b, color=\"green\", linestyle=\"-.\");\n",
    "\n",
    "ax.set_xticks(range(len(length_time_df)));\n",
    "ax.set_xticklabels(length_time_df[\"Date\"], rotation='vertical')\n",
    "ax.set_xlim(-1,len(length_time_df))\n",
    "\n",
    "\n",
    "ax.set_xlabel(\"Time\");\n",
    "ax.set_ylabel(\"Length\");\n",
    "ax.set_title(\"Length of Statements over Time\");"
   ]
  },
  {
   "cell_type": "markdown",
   "metadata": {},
   "source": [
    "We now prepare data to carry out a regression."
   ]
  },
  {
   "cell_type": "code",
   "execution_count": 209,
   "metadata": {
    "collapsed": true
   },
   "outputs": [],
   "source": [
    "import statsmodels.api as sm\n",
    "from statsmodels.formula.api import glm, ols"
   ]
  },
  {
   "cell_type": "code",
   "execution_count": 210,
   "metadata": {
    "collapsed": false
   },
   "outputs": [
    {
     "data": {
      "text/plain": [
       "\"\\nlength_ols_model = ols('Y ~ Length', length_data).fit()\\nlength_ols_model.summary()\\n\""
      ]
     },
     "execution_count": 210,
     "metadata": {},
     "output_type": "execute_result"
    }
   ],
   "source": [
    "\"\"\"\n",
    "length_ols_model = ols('Y ~ Length', length_data).fit()\n",
    "length_ols_model.summary()\n",
    "\"\"\""
   ]
  },
  {
   "cell_type": "code",
   "execution_count": 211,
   "metadata": {
    "collapsed": false
   },
   "outputs": [
    {
     "data": {
      "text/html": [
       "<div>\n",
       "<table border=\"1\" class=\"dataframe\">\n",
       "  <thead>\n",
       "    <tr style=\"text-align: right;\">\n",
       "      <th></th>\n",
       "      <th>Length</th>\n",
       "      <th>Y</th>\n",
       "    </tr>\n",
       "  </thead>\n",
       "  <tbody>\n",
       "    <tr>\n",
       "      <th>0</th>\n",
       "      <td>62507</td>\n",
       "      <td>0</td>\n",
       "    </tr>\n",
       "    <tr>\n",
       "      <th>1</th>\n",
       "      <td>56245</td>\n",
       "      <td>0</td>\n",
       "    </tr>\n",
       "    <tr>\n",
       "      <th>2</th>\n",
       "      <td>24828</td>\n",
       "      <td>0</td>\n",
       "    </tr>\n",
       "    <tr>\n",
       "      <th>3</th>\n",
       "      <td>47011</td>\n",
       "      <td>0</td>\n",
       "    </tr>\n",
       "    <tr>\n",
       "      <th>4</th>\n",
       "      <td>45561</td>\n",
       "      <td>0</td>\n",
       "    </tr>\n",
       "  </tbody>\n",
       "</table>\n",
       "</div>"
      ],
      "text/plain": [
       "   Length  Y\n",
       "0   62507  0\n",
       "1   56245  0\n",
       "2   24828  0\n",
       "3   47011  0\n",
       "4   45561  0"
      ]
     },
     "execution_count": 211,
     "metadata": {},
     "output_type": "execute_result"
    }
   ],
   "source": [
    "for key in decisions.keys():\n",
    "    if decisions[key][2] == -1:\n",
    "        decisions[key][2] = 0\n",
    "        \n",
    "length = []\n",
    "for key in fomc_mins.keys():\n",
    "    new = (len(pq(fomc_mins[key]).text()),decisions[key][2])\n",
    "    length.append(new)\n",
    "    \n",
    "length_data = pd.DataFrame(length, columns = [\"Length\", \"Y\"])\n",
    "length_data.head()"
   ]
  },
  {
   "cell_type": "code",
   "execution_count": 212,
   "metadata": {
    "collapsed": false
   },
   "outputs": [
    {
     "ename": "ValueError",
     "evalue": "For numerical factors, num_columns must be an int",
     "output_type": "error",
     "traceback": [
      "\u001b[1;31m---------------------------------------------------------------------------\u001b[0m",
      "\u001b[1;31mValueError\u001b[0m                                Traceback (most recent call last)",
      "\u001b[1;32m<ipython-input-212-9c93cdf02285>\u001b[0m in \u001b[0;36m<module>\u001b[1;34m()\u001b[0m\n\u001b[1;32m----> 1\u001b[1;33m \u001b[0mlength_ols_model\u001b[0m \u001b[1;33m=\u001b[0m \u001b[0mols\u001b[0m\u001b[1;33m(\u001b[0m\u001b[1;34m'Y ~ Length'\u001b[0m\u001b[1;33m,\u001b[0m \u001b[0mlength_data\u001b[0m\u001b[1;33m)\u001b[0m\u001b[1;33m.\u001b[0m\u001b[0mfit\u001b[0m\u001b[1;33m(\u001b[0m\u001b[1;33m)\u001b[0m\u001b[1;33m\u001b[0m\u001b[0m\n\u001b[0m",
      "\u001b[1;32mC:\\Anaconda2\\lib\\site-packages\\statsmodels\\base\\model.pyc\u001b[0m in \u001b[0;36mfrom_formula\u001b[1;34m(cls, formula, data, subset, *args, **kwargs)\u001b[0m\n\u001b[0;32m    145\u001b[0m         (endog, exog), missing_idx = handle_formula_data(data, None, formula,\n\u001b[0;32m    146\u001b[0m                                                          \u001b[0mdepth\u001b[0m\u001b[1;33m=\u001b[0m\u001b[0meval_env\u001b[0m\u001b[1;33m,\u001b[0m\u001b[1;33m\u001b[0m\u001b[0m\n\u001b[1;32m--> 147\u001b[1;33m                                                          missing=missing)\n\u001b[0m\u001b[0;32m    148\u001b[0m         kwargs.update({'missing_idx': missing_idx,\n\u001b[0;32m    149\u001b[0m                        'missing': missing})\n",
      "\u001b[1;32mC:\\Anaconda2\\lib\\site-packages\\statsmodels\\formula\\formulatools.pyc\u001b[0m in \u001b[0;36mhandle_formula_data\u001b[1;34m(Y, X, formula, depth, missing)\u001b[0m\n\u001b[0;32m     63\u001b[0m         \u001b[1;32mif\u001b[0m \u001b[0mdata_util\u001b[0m\u001b[1;33m.\u001b[0m\u001b[0m_is_using_pandas\u001b[0m\u001b[1;33m(\u001b[0m\u001b[0mY\u001b[0m\u001b[1;33m,\u001b[0m \u001b[0mNone\u001b[0m\u001b[1;33m)\u001b[0m\u001b[1;33m:\u001b[0m\u001b[1;33m\u001b[0m\u001b[0m\n\u001b[0;32m     64\u001b[0m             result = dmatrices(formula, Y, depth, return_type='dataframe',\n\u001b[1;32m---> 65\u001b[1;33m                                NA_action=na_action)\n\u001b[0m\u001b[0;32m     66\u001b[0m         \u001b[1;32melse\u001b[0m\u001b[1;33m:\u001b[0m\u001b[1;33m\u001b[0m\u001b[0m\n\u001b[0;32m     67\u001b[0m             result = dmatrices(formula, Y, depth, return_type='dataframe',\n",
      "\u001b[1;32mC:\\Anaconda2\\lib\\site-packages\\patsy\\highlevel.pyc\u001b[0m in \u001b[0;36mdmatrices\u001b[1;34m(formula_like, data, eval_env, NA_action, return_type)\u001b[0m\n\u001b[0;32m    295\u001b[0m     \u001b[0meval_env\u001b[0m \u001b[1;33m=\u001b[0m \u001b[0mEvalEnvironment\u001b[0m\u001b[1;33m.\u001b[0m\u001b[0mcapture\u001b[0m\u001b[1;33m(\u001b[0m\u001b[0meval_env\u001b[0m\u001b[1;33m,\u001b[0m \u001b[0mreference\u001b[0m\u001b[1;33m=\u001b[0m\u001b[1;36m1\u001b[0m\u001b[1;33m)\u001b[0m\u001b[1;33m\u001b[0m\u001b[0m\n\u001b[0;32m    296\u001b[0m     (lhs, rhs) = _do_highlevel_design(formula_like, data, eval_env,\n\u001b[1;32m--> 297\u001b[1;33m                                       NA_action, return_type)\n\u001b[0m\u001b[0;32m    298\u001b[0m     \u001b[1;32mif\u001b[0m \u001b[0mlhs\u001b[0m\u001b[1;33m.\u001b[0m\u001b[0mshape\u001b[0m\u001b[1;33m[\u001b[0m\u001b[1;36m1\u001b[0m\u001b[1;33m]\u001b[0m \u001b[1;33m==\u001b[0m \u001b[1;36m0\u001b[0m\u001b[1;33m:\u001b[0m\u001b[1;33m\u001b[0m\u001b[0m\n\u001b[0;32m    299\u001b[0m         \u001b[1;32mraise\u001b[0m \u001b[0mPatsyError\u001b[0m\u001b[1;33m(\u001b[0m\u001b[1;34m\"model is missing required outcome variables\"\u001b[0m\u001b[1;33m)\u001b[0m\u001b[1;33m\u001b[0m\u001b[0m\n",
      "\u001b[1;32mC:\\Anaconda2\\lib\\site-packages\\patsy\\highlevel.pyc\u001b[0m in \u001b[0;36m_do_highlevel_design\u001b[1;34m(formula_like, data, eval_env, NA_action, return_type)\u001b[0m\n\u001b[0;32m    150\u001b[0m         \u001b[1;32mreturn\u001b[0m \u001b[0miter\u001b[0m\u001b[1;33m(\u001b[0m\u001b[1;33m[\u001b[0m\u001b[0mdata\u001b[0m\u001b[1;33m]\u001b[0m\u001b[1;33m)\u001b[0m\u001b[1;33m\u001b[0m\u001b[0m\n\u001b[0;32m    151\u001b[0m     design_infos = _try_incr_builders(formula_like, data_iter_maker, eval_env,\n\u001b[1;32m--> 152\u001b[1;33m                                       NA_action)\n\u001b[0m\u001b[0;32m    153\u001b[0m     \u001b[1;32mif\u001b[0m \u001b[0mdesign_infos\u001b[0m \u001b[1;32mis\u001b[0m \u001b[1;32mnot\u001b[0m \u001b[0mNone\u001b[0m\u001b[1;33m:\u001b[0m\u001b[1;33m\u001b[0m\u001b[0m\n\u001b[0;32m    154\u001b[0m         return build_design_matrices(design_infos, data,\n",
      "\u001b[1;32mC:\\Anaconda2\\lib\\site-packages\\patsy\\highlevel.pyc\u001b[0m in \u001b[0;36m_try_incr_builders\u001b[1;34m(formula_like, data_iter_maker, eval_env, NA_action)\u001b[0m\n\u001b[0;32m     55\u001b[0m                                       \u001b[0mdata_iter_maker\u001b[0m\u001b[1;33m,\u001b[0m\u001b[1;33m\u001b[0m\u001b[0m\n\u001b[0;32m     56\u001b[0m                                       \u001b[0meval_env\u001b[0m\u001b[1;33m,\u001b[0m\u001b[1;33m\u001b[0m\u001b[0m\n\u001b[1;32m---> 57\u001b[1;33m                                       NA_action)\n\u001b[0m\u001b[0;32m     58\u001b[0m     \u001b[1;32melse\u001b[0m\u001b[1;33m:\u001b[0m\u001b[1;33m\u001b[0m\u001b[0m\n\u001b[0;32m     59\u001b[0m         \u001b[1;32mreturn\u001b[0m \u001b[0mNone\u001b[0m\u001b[1;33m\u001b[0m\u001b[0m\n",
      "\u001b[1;32mC:\\Anaconda2\\lib\\site-packages\\patsy\\build.pyc\u001b[0m in \u001b[0;36mdesign_matrix_builders\u001b[1;34m(termlists, data_iter_maker, eval_env, NA_action)\u001b[0m\n\u001b[0;32m    704\u001b[0m                             \u001b[0mfactor_states\u001b[0m\u001b[1;33m[\u001b[0m\u001b[0mfactor\u001b[0m\u001b[1;33m]\u001b[0m\u001b[1;33m,\u001b[0m\u001b[1;33m\u001b[0m\u001b[0m\n\u001b[0;32m    705\u001b[0m                             \u001b[0mnum_columns\u001b[0m\u001b[1;33m=\u001b[0m\u001b[0mnum_column_counts\u001b[0m\u001b[1;33m[\u001b[0m\u001b[0mfactor\u001b[0m\u001b[1;33m]\u001b[0m\u001b[1;33m,\u001b[0m\u001b[1;33m\u001b[0m\u001b[0m\n\u001b[1;32m--> 706\u001b[1;33m                             categories=None)\n\u001b[0m\u001b[0;32m    707\u001b[0m         \u001b[1;32melse\u001b[0m\u001b[1;33m:\u001b[0m\u001b[1;33m\u001b[0m\u001b[0m\n\u001b[0;32m    708\u001b[0m             \u001b[1;32massert\u001b[0m \u001b[0mfactor\u001b[0m \u001b[1;32min\u001b[0m \u001b[0mcat_levels_contrasts\u001b[0m\u001b[1;33m\u001b[0m\u001b[0m\n",
      "\u001b[1;32mC:\\Anaconda2\\lib\\site-packages\\patsy\\design_info.pyc\u001b[0m in \u001b[0;36m__init__\u001b[1;34m(self, factor, type, state, num_columns, categories)\u001b[0m\n\u001b[0;32m     86\u001b[0m         \u001b[1;32mif\u001b[0m \u001b[0mself\u001b[0m\u001b[1;33m.\u001b[0m\u001b[0mtype\u001b[0m \u001b[1;33m==\u001b[0m \u001b[1;34m\"numerical\"\u001b[0m\u001b[1;33m:\u001b[0m\u001b[1;33m\u001b[0m\u001b[0m\n\u001b[0;32m     87\u001b[0m             \u001b[1;32mif\u001b[0m \u001b[1;32mnot\u001b[0m \u001b[0misinstance\u001b[0m\u001b[1;33m(\u001b[0m\u001b[0mnum_columns\u001b[0m\u001b[1;33m,\u001b[0m \u001b[0mint\u001b[0m\u001b[1;33m)\u001b[0m\u001b[1;33m:\u001b[0m\u001b[1;33m\u001b[0m\u001b[0m\n\u001b[1;32m---> 88\u001b[1;33m                 raise ValueError(\"For numerical factors, num_columns \"\n\u001b[0m\u001b[0;32m     89\u001b[0m                                  \"must be an int\")\n\u001b[0;32m     90\u001b[0m             \u001b[1;32mif\u001b[0m \u001b[0mcategories\u001b[0m \u001b[1;32mis\u001b[0m \u001b[1;32mnot\u001b[0m \u001b[0mNone\u001b[0m\u001b[1;33m:\u001b[0m\u001b[1;33m\u001b[0m\u001b[0m\n",
      "\u001b[1;31mValueError\u001b[0m: For numerical factors, num_columns must be an int"
     ]
    }
   ],
   "source": [
    "length_ols_model = ols('Y ~ Length', length_data).fit()"
   ]
  },
  {
   "cell_type": "code",
   "execution_count": 407,
   "metadata": {
    "collapsed": false
   },
   "outputs": [
    {
     "data": {
      "text/html": [
       "<table class=\"simpletable\">\n",
       "<caption>OLS Regression Results</caption>\n",
       "<tr>\n",
       "  <th>Dep. Variable:</th>            <td>Y</td>        <th>  R-squared:         </th> <td>   0.117</td>\n",
       "</tr>\n",
       "<tr>\n",
       "  <th>Model:</th>                   <td>OLS</td>       <th>  Adj. R-squared:    </th> <td>   0.109</td>\n",
       "</tr>\n",
       "<tr>\n",
       "  <th>Method:</th>             <td>Least Squares</td>  <th>  F-statistic:       </th> <td>   14.06</td>\n",
       "</tr>\n",
       "<tr>\n",
       "  <th>Date:</th>             <td>Thu, 10 Dec 2015</td> <th>  Prob (F-statistic):</th> <td>0.000289</td>\n",
       "</tr>\n",
       "<tr>\n",
       "  <th>Time:</th>                 <td>13:52:04</td>     <th>  Log-Likelihood:    </th> <td> -37.430</td>\n",
       "</tr>\n",
       "<tr>\n",
       "  <th>No. Observations:</th>      <td>   108</td>      <th>  AIC:               </th> <td>   78.86</td>\n",
       "</tr>\n",
       "<tr>\n",
       "  <th>Df Residuals:</th>          <td>   106</td>      <th>  BIC:               </th> <td>   84.22</td>\n",
       "</tr>\n",
       "<tr>\n",
       "  <th>Df Model:</th>              <td>     1</td>      <th>                     </th>     <td> </td>   \n",
       "</tr>\n",
       "<tr>\n",
       "  <th>Covariance Type:</th>      <td>nonrobust</td>    <th>                     </th>     <td> </td>   \n",
       "</tr>\n",
       "</table>\n",
       "<table class=\"simpletable\">\n",
       "<tr>\n",
       "      <td></td>         <th>coef</th>     <th>std err</th>      <th>t</th>      <th>P>|t|</th> <th>[95.0% Conf. Int.]</th> \n",
       "</tr>\n",
       "<tr>\n",
       "  <th>Intercept</th> <td>    0.4754</td> <td>    0.091</td> <td>    5.219</td> <td> 0.000</td> <td>    0.295     0.656</td>\n",
       "</tr>\n",
       "<tr>\n",
       "  <th>Length</th>    <td>-7.457e-06</td> <td> 1.99e-06</td> <td>   -3.750</td> <td> 0.000</td> <td>-1.14e-05 -3.51e-06</td>\n",
       "</tr>\n",
       "</table>\n",
       "<table class=\"simpletable\">\n",
       "<tr>\n",
       "  <th>Omnibus:</th>       <td>28.358</td> <th>  Durbin-Watson:     </th> <td>   2.174</td>\n",
       "</tr>\n",
       "<tr>\n",
       "  <th>Prob(Omnibus):</th> <td> 0.000</td> <th>  Jarque-Bera (JB):  </th> <td>  39.937</td>\n",
       "</tr>\n",
       "<tr>\n",
       "  <th>Skew:</th>          <td> 1.430</td> <th>  Prob(JB):          </th> <td>2.13e-09</td>\n",
       "</tr>\n",
       "<tr>\n",
       "  <th>Kurtosis:</th>      <td> 3.834</td> <th>  Cond. No.          </th> <td>1.26e+05</td>\n",
       "</tr>\n",
       "</table>"
      ],
      "text/plain": [
       "<class 'statsmodels.iolib.summary.Summary'>\n",
       "\"\"\"\n",
       "                            OLS Regression Results                            \n",
       "==============================================================================\n",
       "Dep. Variable:                      Y   R-squared:                       0.117\n",
       "Model:                            OLS   Adj. R-squared:                  0.109\n",
       "Method:                 Least Squares   F-statistic:                     14.06\n",
       "Date:                Thu, 10 Dec 2015   Prob (F-statistic):           0.000289\n",
       "Time:                        13:52:04   Log-Likelihood:                -37.430\n",
       "No. Observations:                 108   AIC:                             78.86\n",
       "Df Residuals:                     106   BIC:                             84.22\n",
       "Df Model:                           1                                         \n",
       "Covariance Type:            nonrobust                                         \n",
       "==============================================================================\n",
       "                 coef    std err          t      P>|t|      [95.0% Conf. Int.]\n",
       "------------------------------------------------------------------------------\n",
       "Intercept      0.4754      0.091      5.219      0.000         0.295     0.656\n",
       "Length     -7.457e-06   1.99e-06     -3.750      0.000     -1.14e-05 -3.51e-06\n",
       "==============================================================================\n",
       "Omnibus:                       28.358   Durbin-Watson:                   2.174\n",
       "Prob(Omnibus):                  0.000   Jarque-Bera (JB):               39.937\n",
       "Skew:                           1.430   Prob(JB):                     2.13e-09\n",
       "Kurtosis:                       3.834   Cond. No.                     1.26e+05\n",
       "==============================================================================\n",
       "\n",
       "Warnings:\n",
       "[1] Standard Errors assume that the covariance matrix of the errors is correctly specified.\n",
       "[2] The condition number is large, 1.26e+05. This might indicate that there are\n",
       "strong multicollinearity or other numerical problems.\n",
       "\"\"\""
      ]
     },
     "execution_count": 407,
     "metadata": {},
     "output_type": "execute_result"
    }
   ],
   "source": [
    "length_ols_model.summary()"
   ]
  },
  {
   "cell_type": "markdown",
   "metadata": {},
   "source": [
    "Some comment on the $R^2$ value of our data goes here. General comment about whether or not there is a relationship between length of statement and outcome of Fed statement."
   ]
  },
  {
   "cell_type": "code",
   "execution_count": 408,
   "metadata": {
    "collapsed": false
   },
   "outputs": [
    {
     "data": {
      "text/plain": [
       "<matplotlib.collections.PathCollection at 0x2ab08358>"
      ]
     },
     "execution_count": 408,
     "metadata": {},
     "output_type": "execute_result"
    },
    {
     "data": {
      "image/png": "[encoded data removed]",
      "text/plain": [
       "<matplotlib.figure.Figure at 0x2bf75c88>"
      ]
     },
     "metadata": {},
     "output_type": "display_data"
    }
   ],
   "source": [
    "plt.scatter(length_data['Length'], length_data['Y'])"
   ]
  },
  {
   "cell_type": "code",
   "execution_count": 409,
   "metadata": {
    "collapsed": false
   },
   "outputs": [
    {
     "name": "stdout",
     "output_type": "stream",
     "text": [
      "Optimization terminated successfully.\n",
      "         Current function value: 0.373646\n",
      "         Iterations 7\n"
     ]
    },
    {
     "data": {
      "text/html": [
       "<table class=\"simpletable\">\n",
       "<caption>Logit Regression Results</caption>\n",
       "<tr>\n",
       "  <th>Dep. Variable:</th>         <td>Y</td>        <th>  No. Observations:  </th>  <td>   108</td>  \n",
       "</tr>\n",
       "<tr>\n",
       "  <th>Model:</th>               <td>Logit</td>      <th>  Df Residuals:      </th>  <td>   106</td>  \n",
       "</tr>\n",
       "<tr>\n",
       "  <th>Method:</th>               <td>MLE</td>       <th>  Df Model:          </th>  <td>     1</td>  \n",
       "</tr>\n",
       "<tr>\n",
       "  <th>Date:</th>          <td>Thu, 10 Dec 2015</td> <th>  Pseudo R-squ.:     </th>  <td>0.1417</td>  \n",
       "</tr>\n",
       "<tr>\n",
       "  <th>Time:</th>              <td>13:52:14</td>     <th>  Log-Likelihood:    </th> <td> -40.354</td> \n",
       "</tr>\n",
       "<tr>\n",
       "  <th>converged:</th>           <td>True</td>       <th>  LL-Null:           </th> <td> -47.017</td> \n",
       "</tr>\n",
       "<tr>\n",
       "  <th> </th>                      <td> </td>        <th>  LLR p-value:       </th> <td>0.0002616</td>\n",
       "</tr>\n",
       "</table>\n",
       "<table class=\"simpletable\">\n",
       "<tr>\n",
       "      <td></td>         <th>coef</th>     <th>std err</th>      <th>z</th>      <th>P>|z|</th> <th>[95.0% Conf. Int.]</th> \n",
       "</tr>\n",
       "<tr>\n",
       "  <th>Intercept</th> <td>    0.6825</td> <td>    0.699</td> <td>    0.977</td> <td> 0.329</td> <td>   -0.687     2.052</td>\n",
       "</tr>\n",
       "<tr>\n",
       "  <th>Length</th>    <td>-6.316e-05</td> <td> 1.92e-05</td> <td>   -3.295</td> <td> 0.001</td> <td>   -0.000 -2.56e-05</td>\n",
       "</tr>\n",
       "</table>"
      ],
      "text/plain": [
       "<class 'statsmodels.iolib.summary.Summary'>\n",
       "\"\"\"\n",
       "                           Logit Regression Results                           \n",
       "==============================================================================\n",
       "Dep. Variable:                      Y   No. Observations:                  108\n",
       "Model:                          Logit   Df Residuals:                      106\n",
       "Method:                           MLE   Df Model:                            1\n",
       "Date:                Thu, 10 Dec 2015   Pseudo R-squ.:                  0.1417\n",
       "Time:                        13:52:14   Log-Likelihood:                -40.354\n",
       "converged:                       True   LL-Null:                       -47.017\n",
       "                                        LLR p-value:                 0.0002616\n",
       "==============================================================================\n",
       "                 coef    std err          z      P>|z|      [95.0% Conf. Int.]\n",
       "------------------------------------------------------------------------------\n",
       "Intercept      0.6825      0.699      0.977      0.329        -0.687     2.052\n",
       "Length     -6.316e-05   1.92e-05     -3.295      0.001        -0.000 -2.56e-05\n",
       "==============================================================================\n",
       "\"\"\""
      ]
     },
     "execution_count": 409,
     "metadata": {},
     "output_type": "execute_result"
    }
   ],
   "source": [
    "import statsmodels.api as sm\n",
    "from statsmodels.formula.api import logit\n",
    "\n",
    "length_logistic = logit('Y ~ Length', length_data).fit()\n",
    "length_logistic.summary()"
   ]
  },
  {
   "cell_type": "markdown",
   "metadata": {},
   "source": [
    "### 4.2: Commentary"
   ]
  },
  {
   "cell_type": "code",
   "execution_count": null,
   "metadata": {
    "collapsed": true
   },
   "outputs": [],
   "source": []
  },
  {
   "cell_type": "markdown",
   "metadata": {},
   "source": [
    "## Part 5: Ensemble method"
   ]
  },
  {
   "cell_type": "markdown",
   "metadata": {},
   "source": [
    "Ensemble method that brings it all together"
   ]
  },
  {
   "cell_type": "code",
   "execution_count": null,
   "metadata": {
    "collapsed": true
   },
   "outputs": [],
   "source": []
  }
 ],
 "metadata": {
  "kernelspec": {
   "display_name": "Python 2",
   "language": "python",
   "name": "python2"
  },
  "language_info": {
   "codemirror_mode": {
    "name": "ipython",
    "version": 2
   },
   "file_extension": ".py",
   "mimetype": "text/x-python",
   "name": "python",
   "nbconvert_exporter": "python",
   "pygments_lexer": "ipython2",
   "version": "2.7.10"
  }
 },
 "nbformat": 4,
 "nbformat_minor": 0
}
