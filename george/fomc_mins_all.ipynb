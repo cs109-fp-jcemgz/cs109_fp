{
 "cells": [
  {
   "cell_type": "markdown",
   "metadata": {},
   "source": [
    "# Scraping a wider range of dates"
   ]
  },
  {
   "cell_type": "code",
   "execution_count": 1,
   "metadata": {
    "collapsed": true
   },
   "outputs": [],
   "source": [
    "%matplotlib inline\n",
    "import numpy as np\n",
    "import scipy as sp\n",
    "import matplotlib as mpl\n",
    "import matplotlib.pyplot as plt\n",
    "import pandas as pd\n",
    "import seaborn as sns"
   ]
  },
  {
   "cell_type": "code",
   "execution_count": 7,
   "metadata": {
    "collapsed": true
   },
   "outputs": [],
   "source": [
    "from pyquery import PyQuery as pq\n",
    "from bs4 import BeautifulSoup\n",
    "from selenium import webdriver\n",
    "import re\n",
    "import requests\n",
    "\n",
    "import time"
   ]
  },
  {
   "cell_type": "code",
   "execution_count": 3,
   "metadata": {
    "collapsed": true
   },
   "outputs": [],
   "source": [
    "fedurl_base = \"http://search.newyorkfed.org\""
   ]
  },
  {
   "cell_type": "markdown",
   "metadata": {},
   "source": [
    "## Using Selenium WebDriver"
   ]
  },
  {
   "cell_type": "markdown",
   "metadata": {},
   "source": [
    "We first used Selenium to obtain all the links of the FOMC minutes on the FOMC website.\n",
    "\n",
    "Selenium offers an advantage over basic requests--it doesn't run into php/javacript tag selector issues because it simulates an actual human browsing the website. (The search engine from which the links are obtained uses a php/javascript backend.)"
   ]
  },
  {
   "cell_type": "code",
   "execution_count": 48,
   "metadata": {
    "collapsed": false
   },
   "outputs": [],
   "source": [
    "# Initialize browser\n",
    "# Use Ctrl+Enter (don't use Shift+Enter)\n",
    "browser = webdriver.Firefox()"
   ]
  },
  {
   "cell_type": "markdown",
   "metadata": {},
   "source": [
    "Selenium allows us to go directly to the search page with text already in the input query."
   ]
  },
  {
   "cell_type": "code",
   "execution_count": 49,
   "metadata": {
    "collapsed": false
   },
   "outputs": [],
   "source": [
    "browser.get(\"http://search.newyorkfed.org/fomc-docs/search?advanced_search=true&fomc_document_type=minutes&text=.htm&search_precision=All+Words&from_month=3&from_year=1936&to_month=12&to_year=2015&sort=Most+Recent+First&Search=Search\")"
   ]
  },
  {
   "cell_type": "markdown",
   "metadata": {},
   "source": [
    "We iterate through each page of the search results and collect all the links by storing them in a list."
   ]
  },
  {
   "cell_type": "code",
   "execution_count": 50,
   "metadata": {
    "collapsed": false
   },
   "outputs": [
    {
     "name": "stdout",
     "output_type": "stream",
     "text": [
      "End of results\n",
      "Message: Unable to locate element: {\"method\":\"link text\",\"selector\":\"Next Page\"}\n",
      "Stacktrace:\n",
      "    at FirefoxDriver.prototype.findElementInternal_ (file:///c:/users/george/appdata/local/temp/tmpz5tu8q/extensions/fxdriver@googlecode.com/components/driver-component.js:10659)\n",
      "    at FirefoxDriver.prototype.findElement (file:///c:/users/george/appdata/local/temp/tmpz5tu8q/extensions/fxdriver@googlecode.com/components/driver-component.js:10668)\n",
      "    at DelayedCommand.prototype.executeInternal_/h (file:///c:/users/george/appdata/local/temp/tmpz5tu8q/extensions/fxdriver@googlecode.com/components/command-processor.js:12534)\n",
      "    at DelayedCommand.prototype.executeInternal_ (file:///c:/users/george/appdata/local/temp/tmpz5tu8q/extensions/fxdriver@googlecode.com/components/command-processor.js:12539)\n",
      "    at DelayedCommand.prototype.execute/< (file:///c:/users/george/appdata/local/temp/tmpz5tu8q/extensions/fxdriver@googlecode.com/components/command-processor.js:12481)\n",
      "187\n"
     ]
    }
   ],
   "source": [
    "links = []\n",
    "\n",
    "while True:\n",
    "    src = browser.page_source\n",
    "    soup = BeautifulSoup(src, \"html.parser\")\n",
    "    \n",
    "    for tag in soup.find_all('strong'):\n",
    "        linkbox = tag.find('a')\n",
    "        if linkbox:\n",
    "            links.append(linkbox['href'])\n",
    "    try:\n",
    "        nextresults = browser.find_element_by_link_text('Next Page')\n",
    "        nextresults.click()\n",
    "        time.sleep(1)\n",
    "    except Exception, e:\n",
    "        print \"End of results\"\n",
    "        print \"=====================================\"\n",
    "        print e\n",
    "        break\n",
    "\n",
    "# remove duplicates\n",
    "links = list(set(links))\n",
    "print len(links)"
   ]
  },
  {
   "cell_type": "markdown",
   "metadata": {},
   "source": [
    "We save the links that we found."
   ]
  },
  {
   "cell_type": "code",
   "execution_count": 66,
   "metadata": {
    "collapsed": false
   },
   "outputs": [],
   "source": [
    "import pickle\n",
    "pickle.dump(links, open(\"mins_links.p\", \"wb\"))"
   ]
  },
  {
   "cell_type": "code",
   "execution_count": 67,
   "metadata": {
    "collapsed": true
   },
   "outputs": [],
   "source": [
    "import pickle\n",
    "links = pickle.load(open(\"mins_links.p\", \"rb\"))"
   ]
  },
  {
   "cell_type": "code",
   "execution_count": 68,
   "metadata": {
    "collapsed": false
   },
   "outputs": [
    {
     "data": {
      "text/plain": [
       "187"
      ]
     },
     "execution_count": 68,
     "metadata": {},
     "output_type": "execute_result"
    }
   ],
   "source": [
    "len(links)"
   ]
  },
  {
   "cell_type": "markdown",
   "metadata": {
    "collapsed": true
   },
   "source": [
    "## Using requests"
   ]
  },
  {
   "cell_type": "markdown",
   "metadata": {},
   "source": [
    "This approach for obtaining the links cannot be used as easily since Javacript used on the FOMC site makes tag selection difficult. \n",
    "Attempting to find strong results in no urls being found. \n",
    "\n",
    "\n",
    "However, given the links that we found above, we can still use requests to obtain the page contents."
   ]
  },
  {
   "cell_type": "code",
   "execution_count": 74,
   "metadata": {
    "collapsed": true
   },
   "outputs": [],
   "source": [
    "from requests.exceptions import ConnectionError\n",
    "\n",
    "fomc_mins = {}"
   ]
  },
  {
   "cell_type": "code",
   "execution_count": null,
   "metadata": {
    "collapsed": true
   },
   "outputs": [],
   "source": []
  },
  {
   "cell_type": "code",
   "execution_count": null,
   "metadata": {
    "collapsed": true
   },
   "outputs": [],
   "source": []
  },
  {
   "cell_type": "code",
   "execution_count": null,
   "metadata": {
    "collapsed": true
   },
   "outputs": [],
   "source": []
  },
  {
   "cell_type": "code",
   "execution_count": 75,
   "metadata": {
    "collapsed": false,
    "scrolled": true
   },
   "outputs": [
    {
     "name": "stdout",
     "output_type": "stream",
     "text": [
      "http://www.federalreserve.gov/fomc/MINUTES/1993/19930707min.htm\n",
      "http://www.federalreserve.gov/monetarypolicy/fomcminutes20110427.htm\n",
      "http://www.federalreserve.gov/fomc/minutes/20030129.htm\n",
      "http://www.federalreserve.gov/fomc/minutes/19960702.htm\n",
      "http://www.federalreserve.gov/fomc/minutes/20001219.htm\n",
      "http://www.federalreserve.gov/monetarypolicy/files/fomcminutes20150318.pdf\n",
      "http://www.federalreserve.gov/monetarypolicy/fomcminutes20090128.htm\n",
      "http://www.federalreserve.gov/monetarypolicy/fomcminutes20110921.htm\n",
      "http://www.federalreserve.gov/fomc/minutes/20051213.htm\n",
      "http://www.federalreserve.gov/fomc/MINUTES/1993/19930817min.htm\n",
      "http://www.federalreserve.gov/fomc/minutes/20030916.htm\n",
      "http://www.federalreserve.gov/fomc/minutes/20070131.htm\n",
      "http://www.federalreserve.gov/fomc/minutes/20060629.htm\n",
      "http://www.federalreserve.gov/monetarypolicy/fomcminutes20111213.htm\n",
      "http://www.federalreserve.gov/fomc/minutes/19980929.htm\n",
      "http://www.federalreserve.gov/monetarypolicy/fomcminutes20100921.htm\n",
      "http://www.federalreserve.gov/monetarypolicy/files/fomcminutes20150128.pdf\n",
      "http://www.federalreserve.gov/fomc/minutes/20070807.htm\n",
      "http://www.federalreserve.gov/fomc/minutes/20000628.htm\n",
      "http://www.federalreserve.gov/fomc/minutes/19990518.htm\n",
      "http://www.federalreserve.gov/monetarypolicy/fomcminutes20080430.htm\n",
      "http://www.federalreserve.gov/fomc/minutes/20040921.htm\n",
      "http://www.federalreserve.gov/fomc/MINUTES/1995/19950328min.htm\n",
      "http://www.federalreserve.gov/fomc/MINUTES/1994/19940517min.htm\n",
      "http://www.federalreserve.gov/monetarypolicy/fomcminutes20120913.htm\n",
      "http://www.federalreserve.gov/monetarypolicy/fomcminutes20100428.htm\n",
      "http://www.federalreserve.gov/fomc/minutes/1994/19941220min.htm\n",
      "http://www.federalreserve.gov/monetarypolicy/fomcminutes20120313.htm\n",
      "http://www.federalreserve.gov/fomc/minutes/19980203.htm\n",
      "http://www.federalreserve.gov/fomc/minutes/20000321.htm\n",
      "http://www.federalreserve.gov/fomc/minutes/20021106.htm\n",
      "http://www.federalreserve.gov/fomc/minutes/20000202.htm\n",
      "http://www.federalreserve.gov/monetarypolicy/fomcminutes20071211.htm\n",
      "http://www.federalreserve.gov/fomc/minutes/20040316.htm\n",
      "http://www.federalreserve.gov/monetarypolicy/fomcminutes20120801.htm\n",
      "http://www.federalreserve.gov/monetarypolicy/fomcminutes20150318.htm\n",
      "http://www.federalreserve.gov/monetarypolicy/fomcminutes20120425.htm\n",
      "http://www.federalreserve.gov/monetarypolicy/fomcminutes20090923.htm\n",
      "http://www.federalreserve.gov/fomc/minutes/20060920.htm\n",
      "http://www.federalreserve.gov/fomc/minutes/20011106.htm\n",
      "http://www.federalreserve.gov/fomc/minutes/20061212.htm\n",
      "http://www.federalreserve.gov/monetarypolicy/fomcminutes20140129.htm\n",
      "http://www.federalreserve.gov/monetarypolicy/fomcminutes20101103.htm\n",
      "http://www.federalreserve.gov/fomc/minutes/19991221.htm\n",
      "http://www.federalreserve.gov/fomc/minutes/20040504.htm\n",
      "http://www.federalreserve.gov/fomc/minutes/19980331.htm\n",
      "http://www.federalreserve.gov/monetarypolicy/fomcminutes20141029.htm\n",
      "http://www.federalreserve.gov/fomc/minutes/19980818.htm\n",
      "http://www.federalreserve.gov/monetarypolicy/fomcminutes20100127.htm\n",
      "http://www.federalreserve.gov/monetarypolicy/fomcminutes20091216.htm\n",
      "http://www.federalreserve.gov/fomc/minutes/20041110.htm\n",
      "http://www.federalreserve.gov/fomc/minutes/19991005.htm\n",
      "http://www.federalreserve.gov/monetarypolicy/fomcminutes20120125.htm\n",
      "http://www.federalreserve.gov/fomc/minutes/20020813.htm\n",
      "http://www.federalreserve.gov/fomc/minutes/19961113.htm\n",
      "http://www.federalreserve.gov/monetarypolicy/fomcminutes20110315.htm\n",
      "http://www.federalreserve.gov/fomc/minutes/19970701.htm\n",
      "http://www.federalreserve.gov/monetarypolicy/fomcminutes20080916.htm\n",
      "http://www.federalreserve.gov/fomc/minutes/19990330.htm\n",
      "http://www.federalreserve.gov/monetarypolicy/fomcminutes20141217.htm\n",
      "http://www.federalreserve.gov/fomc/MINUTES/1995/19950926min.htm\n",
      "http://www.federalreserve.gov/fomc/MINUTES/1995/19950523min.htm\n",
      "http://www.federalreserve.gov/fomc/minutes/19970325.htm\n",
      "http://www.federalreserve.gov/fomc/minutes/19990629.htm\n",
      "http://www.federalreserve.gov/fomc/minutes/20011211.htm\n",
      "http://www.federalreserve.gov/monetarypolicy/fomcminutes20071031.htm\n",
      "http://www.federalreserve.gov/monetarypolicy/fomcminutes20140917.htm\n",
      "http://www.federalreserve.gov/fomc/minutes/20030625.htm\n",
      "http://www.federalreserve.gov/monetarypolicy/fomcminutes20110622.htm\n",
      "http://www.federalreserve.gov/monetarypolicy/fomcminutes20120620.htm\n",
      "http://www.federalreserve.gov/fomc/MINUTES/1993/19930323min.htm\n",
      "http://www.federalreserve.gov/fomc/minutes/19980519.htm\n",
      "http://www.federalreserve.gov/fomc/minutes/20070628.htm\n",
      "http://www.federalreserve.gov/monetarypolicy/fomcminutes20150729.htm\n",
      "http://www.federalreserve.gov/fomc/minutes/20050322.htm\n",
      "http://www.federalreserve.gov/monetarypolicy/fomcminutes20110126.htm\n",
      "http://www.federalreserve.gov/fomc/minutes/19960820.htm\n",
      "http://www.federalreserve.gov/monetarypolicy/files/fomcminutes20130130.pdf\n",
      "http://www.federalreserve.gov/monetarypolicy/fomcminutes20080130.htm\n",
      "http://www.federalreserve.gov/fomc/minutes/20050809.htm\n",
      "http://www.federalreserve.gov/fomc/MINUTES/1994/19940204min.htm\n",
      "http://www.federalreserve.gov/fomc/minutes/20030506.htm\n",
      "http://www.federalreserve.gov/monetarypolicy/fomcminutes20090624.htm\n",
      "http://www.federalreserve.gov/fomc/minutes/20040810.htm\n",
      "http://www.federalreserve.gov/fomc/minutes/19981117.htm\n",
      "http://www.federalreserve.gov/fomc/minutes/19961217.htm\n",
      "http://www.federalreserve.gov/fomc/minutes/20020924.htm\n",
      "http://www.federalreserve.gov/fomc/MINUTES/1994/19941220min.htm\n",
      "http://www.federalreserve.gov/monetarypolicy/fomcminutes20111102.htm\n",
      "http://www.federalreserve.gov/fomc/MINUTES/1995/19951219min.htm\n",
      "http://www.federalreserve.gov/fomc/MINUTES/1994/19940927min.htm\n",
      "http://www.federalreserve.gov/fomc/minutes/19990202.htm\n",
      "http://www.federalreserve.gov/fomc/minutes/19970520.htm\n",
      "http://www.federalreserve.gov/fomc/MINUTES/1993/19930921min.htm\n",
      "http://www.federalreserve.gov/monetarypolicy/fomcminutes20100316.htm\n",
      "http://www.federalreserve.gov/monetarypolicy/fomcminutes20140618.htm\n",
      "http://www.federalreserve.gov/fomc/minutes/20030812.htm\n",
      "http://www.federalreserve.gov/fomc/minutes/19960130.htm\n",
      "http://www.federalreserve.gov/fomc/minutes/20010515.htm\n",
      "http://www.federalreserve.gov/monetarypolicy/fomcminutes20140430.htm\n",
      "http://www.federalreserve.gov/fomc/minutes/20040630.htm\n",
      "http://www.federalreserve.gov/fomc/minutes/19980630.htm\n",
      "http://www.federalreserve.gov/monetarypolicy/fomcminutes20131030.htm\n",
      "http://www.federalreserve.gov/monetarypolicy/fomcminutes20130130.htm\n",
      "http://www.federalreserve.gov/fomc/minutes/20010821.htm\n",
      "http://www.federalreserve.gov/monetarypolicy/fomcminutes20081029.htm\n",
      "http://www.federalreserve.gov/fomc/minutes/20021210.htm\n",
      "http://www.federalreserve.gov/fomc/minutes/20050630.htm\n",
      "http://www.federalreserve.gov/monetarypolicy/fomcminutes20090318.htm\n",
      "http://www.federalreserve.gov/monetarypolicy/fomcminutes20151028.htm\n",
      "http://www.federalreserve.gov/monetarypolicy/fomcminutes20140319.htm\n",
      "http://www.federalreserve.gov/monetarypolicy/fomcminutes20150429.htm\n",
      "http://www.federalreserve.gov/monetarypolicy/fomcminutes20080318.htm\n",
      "http://www.federalreserve.gov/fomc/MINUTES/1993/19930203min.htm\n",
      "http://www.federalreserve.gov/monetarypolicy/fomcminutes20130501.htm\n",
      "http://www.federalreserve.gov/fomc/minutes/20030318.htm\n",
      "http://www.federalreserve.gov/monetarypolicy/fomcminutes20121212.htm\n",
      "http://www.federalreserve.gov/fomc/minutes/20040128.htm\n",
      "http://www.federalreserve.gov/monetarypolicy/fomcminutes20091104.htm\n",
      "http://www.federalreserve.gov/fomc/minutes/19970819.htm\n",
      "http://www.federalreserve.gov/fomc/minutes/20020507.htm\n",
      "http://www.federalreserve.gov/monetarypolicy/fomcminutes20090429.htm\n",
      "http://www.federalreserve.gov/monetarypolicy/fomcminutes20100623.htm\n",
      "http://www.federalreserve.gov/monetarypolicy/fomcminutes20150128.htm\n",
      "http://www.federalreserve.gov/monetarypolicy/fomcminutes20130918.htm\n",
      "http://www.federalreserve.gov/fomc/MINUTES/1994/19940816min.htm\n",
      "http://www.federalreserve.gov/fomc/minutes/20011002.htm\n",
      "http://www.federalreserve.gov/fomc/minutes/20051101.htm\n",
      "http://www.federalreserve.gov/fomc/MINUTES/1995/19950706min.htm\n",
      "http://www.federalreserve.gov/fomc/MINUTES/1994/19940706min.htm\n",
      "http://www.federalreserve.gov/fomc/minutes/20050920.htm\n",
      "http://www.federalreserve.gov/fomc/MINUTES/1995/19951115min.htm\n",
      "http://www.federalreserve.gov/fomc/minutes/20031209.htm\n",
      "http://www.federalreserve.gov/monetarypolicy/fomcminutes20101214.htm\n",
      "http://www.federalreserve.gov/monetarypolicy/fomcminutes20150917.htm\n",
      "http://www.federalreserve.gov/fomc/minutes/19970204.htm\n",
      "http://www.federalreserve.gov/fomc/MINUTES/1993/19930518min.htm\n",
      "http://www.federalreserve.gov/fomc/MINUTES/1995/19950822min.htm\n",
      "http://www.federalreserve.gov/fomc/minutes/20020130.htm\n",
      "http://www.federalreserve.gov/monetarypolicy/fomcminutes20130731.htm\n",
      "http://www.federalreserve.gov/monetarypolicy/fomcminutes20130619.htm\n",
      "http://www.federalreserve.gov/fomc/minutes/20020626.htm\n",
      "http://www.federalreserve.gov/fomc/minutes/20070509.htm\n",
      "http://www.federalreserve.gov/fomc/minutes/20010627.htm\n",
      "http://www.federalreserve.gov/monetarypolicy/fomcminutes20140730.htm\n",
      "http://www.federalreserve.gov/fomc/minutes/20041214.htm\n",
      "http://www.federalreserve.gov/monetarypolicy/files/fomcminutes20140129.pdf\n",
      "http://www.federalreserve.gov/monetarypolicy/fomcminutes20110809.htm\n",
      "http://www.federalreserve.gov/monetarypolicy/fomcminutes20080805.htm\n",
      "http://www.federalreserve.gov/fomc/minutes/20061025.htm\n",
      "http://www.federalreserve.gov/fomc/minutes/19981222.htm\n",
      "http://www.federalreserve.gov/fomc/minutes/20000516.htm\n",
      "http://www.federalreserve.gov/fomc/minutes/20000822.htm\n",
      "http://www.federalreserve.gov/monetarypolicy/fomcminutes20090812.htm\n",
      "http://www.federalreserve.gov/fomc/minutes/20060131.htm\n",
      "http://www.federalreserve.gov/fomc/MINUTES/1994/19941115min.htm\n",
      "http://www.federalreserve.gov/fomc/minutes/19991116.htm\n",
      "http://www.federalreserve.gov/fomc/minutes/20060510.htm\n",
      "http://www.federalreserve.gov/monetarypolicy/fomcminutes20131218.htm\n",
      "http://www.federalreserve.gov/fomc/minutes/20020319.htm\n",
      "http://www.federalreserve.gov/fomc/MINUTES/1993/19931116min.htm\n",
      "http://www.federalreserve.gov/monetarypolicy/fomcminutes20100810.htm\n",
      "http://www.federalreserve.gov/fomc/minutes/19971216.htm\n",
      "http://www.federalreserve.gov/fomc/MINUTES/1995/19950201min.htm\n",
      "http://www.federalreserve.gov/fomc/minutes/19960521.htm\n",
      "http://www.federalreserve.gov/fomc/minutes/20050202.htm\n",
      "http://www.federalreserve.gov/monetarypolicy/fomcminutes20150617.htm\n",
      "http://www.federalreserve.gov/fomc/minutes/20031028.htm\n",
      "http://www.federalreserve.gov/fomc/minutes/19960924.htm\n",
      "http://www.federalreserve.gov/monetarypolicy/fomcminutes20081216.htm\n",
      "http://www.federalreserve.gov/monetarypolicy/fomcminutes20130320.htm\n",
      "http://www.federalreserve.gov/fomc/minutes/19990824.htm\n",
      "http://www.federalreserve.gov/fomc/minutes/20060328.htm\n",
      "http://www.federalreserve.gov/fomc/minutes/20001003.htm\n",
      "http://www.federalreserve.gov/fomc/minutes/20060808.htm\n",
      "http://www.federalreserve.gov/fomc/MINUTES/1993/19931221min.htm\n",
      "http://www.federalreserve.gov/fomc/minutes/19960326.htm\n",
      "http://www.federalreserve.gov/fomc/minutes/20010320.htm\n",
      "http://www.federalreserve.gov/fomc/minutes/20070918.htm\n",
      "http://www.federalreserve.gov/fomc/minutes/19970930.htm\n",
      "http://www.federalreserve.gov/fomc/minutes/20050503.htm\n",
      "http://www.federalreserve.gov/monetarypolicy/fomcminutes20121024.htm\n",
      "http://www.federalreserve.gov/fomc/minutes/20010131.htm\n",
      "http://www.federalreserve.gov/fomc/minutes/19971112.htm\n",
      "http://www.federalreserve.gov/fomc/minutes/20001115.htm\n",
      "http://www.federalreserve.gov/fomc/minutes/20070321.htm\n",
      "http://www.federalreserve.gov/fomc/MINUTES/1994/19940322min.htm\n",
      "Finished getting page sources\n"
     ]
    }
   ],
   "source": [
    "# this code block can be run multiple times--we check for duplicates\n",
    "searched_urls = fomc_mins.keys()\n",
    "\n",
    "for url in links:\n",
    "    if url not in searched_urls and url[-3:] == \"htm\":\n",
    "        try:\n",
    "            page = requests.get(url)\n",
    "            fomc_mins[url] = page.text\n",
    "        except ConnectionError as e:\n",
    "            print \"Error ==> \", e, \"for\", date\n",
    "\n",
    "        time.sleep(1)\n",
    "\n",
    "print \"Finished getting page sources\""
   ]
  },
  {
   "cell_type": "markdown",
   "metadata": {},
   "source": [
    "We store our page sources a dictionary indexed by the FOMC minutes url."
   ]
  },
  {
   "cell_type": "code",
   "execution_count": 78,
   "metadata": {
    "collapsed": false
   },
   "outputs": [],
   "source": [
    "import json\n",
    "\n",
    "mins_html = open(\"fomc_mins_all.json\", \"wb\")\n",
    "json.dump(fomc_mins, mins_html)\n",
    "mins_html.close()"
   ]
  },
  {
   "cell_type": "code",
   "execution_count": 79,
   "metadata": {
    "collapsed": false
   },
   "outputs": [],
   "source": [
    "import json\n",
    "\n",
    "with open(\"fomc_mins_all.json\", \"rb\") as infile:\n",
    "    fomc_mins_all = json.load(infile)"
   ]
  },
  {
   "cell_type": "code",
   "execution_count": 80,
   "metadata": {
    "collapsed": false
   },
   "outputs": [
    {
     "data": {
      "text/plain": [
       "183"
      ]
     },
     "execution_count": 80,
     "metadata": {},
     "output_type": "execute_result"
    }
   ],
   "source": [
    "len(fomc_mins_all)"
   ]
  },
  {
   "cell_type": "code",
   "execution_count": null,
   "metadata": {
    "collapsed": true
   },
   "outputs": [],
   "source": []
  }
 ],
 "metadata": {
  "kernelspec": {
   "display_name": "Python 2",
   "language": "python",
   "name": "python2"
  },
  "language_info": {
   "codemirror_mode": {
    "name": "ipython",
    "version": 2
   },
   "file_extension": ".py",
   "mimetype": "text/x-python",
   "name": "python",
   "nbconvert_exporter": "python",
   "pygments_lexer": "ipython2",
   "version": "2.7.10"
  }
 },
 "nbformat": 4,
 "nbformat_minor": 0
}
