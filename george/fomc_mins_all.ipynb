{
 "cells": [
  {
   "cell_type": "markdown",
   "metadata": {},
   "source": [
    "# Scraping a wider range of dates"
   ]
  },
  {
   "cell_type": "code",
   "execution_count": 1,
   "metadata": {
    "collapsed": true
   },
   "outputs": [],
   "source": [
    "%matplotlib inline\n",
    "import numpy as np\n",
    "import scipy as sp\n",
    "import matplotlib as mpl\n",
    "import matplotlib.pyplot as plt\n",
    "import pandas as pd\n",
    "import seaborn as sns"
   ]
  },
  {
   "cell_type": "code",
   "execution_count": 2,
   "metadata": {
    "collapsed": true
   },
   "outputs": [],
   "source": [
    "from pyquery import PyQuery as pq\n",
    "from bs4 import BeautifulSoup\n",
    "from selenium import webdriver\n",
    "import re\n",
    "import requests\n",
    "\n",
    "import time"
   ]
  },
  {
   "cell_type": "code",
   "execution_count": 3,
   "metadata": {
    "collapsed": true
   },
   "outputs": [],
   "source": [
    "fedurl_base = \"http://search.newyorkfed.org\""
   ]
  },
  {
   "cell_type": "markdown",
   "metadata": {},
   "source": [
    "## Using Selenium WebDriver"
   ]
  },
  {
   "cell_type": "markdown",
   "metadata": {},
   "source": [
    "We first used Selenium to obtain all the links of the FOMC minutes on the FOMC website.\n",
    "\n",
    "Selenium offers an advantage over basic requests--it doesn't run into php/javacript tag selector issues because it simulates an actual human browsing the website. (The search engine from which the links are obtained uses a php/javascript backend.)"
   ]
  },
  {
   "cell_type": "code",
   "execution_count": 5,
   "metadata": {
    "collapsed": false
   },
   "outputs": [],
   "source": [
    "# Initialize browser\n",
    "# Use Ctrl+Enter (don't use Shift+Enter)\n",
    "browser = webdriver.Firefox()"
   ]
  },
  {
   "cell_type": "markdown",
   "metadata": {},
   "source": [
    "Selenium allows us to go directly to the search page with text already in the input query."
   ]
  },
  {
   "cell_type": "code",
   "execution_count": 6,
   "metadata": {
    "collapsed": false
   },
   "outputs": [],
   "source": [
    "browser.get(\"http://search.newyorkfed.org/fomc-docs/search?advanced_search=true&fomc_document_type=minutes&text=.htm&search_precision=All+Words&from_month=3&from_year=1936&to_month=12&to_year=2015&sort=Most+Recent+First&Search=Search\")"
   ]
  },
  {
   "cell_type": "markdown",
   "metadata": {},
   "source": [
    "We iterate through each page of the search results and collect all the links by storing them in a list."
   ]
  },
  {
   "cell_type": "code",
   "execution_count": 7,
   "metadata": {
    "collapsed": false
   },
   "outputs": [
    {
     "name": "stdout",
     "output_type": "stream",
     "text": [
      "End of results\n",
      "=====================================\n",
      "Message: Unable to locate element: {\"method\":\"link text\",\"selector\":\"Next Page\"}\n",
      "Stacktrace:\n",
      "    at FirefoxDriver.prototype.findElementInternal_ (file:///c:/users/george/appdata/local/temp/tmpvkqyi5/extensions/fxdriver@googlecode.com/components/driver-component.js:10659)\n",
      "    at FirefoxDriver.prototype.findElement (file:///c:/users/george/appdata/local/temp/tmpvkqyi5/extensions/fxdriver@googlecode.com/components/driver-component.js:10668)\n",
      "    at DelayedCommand.prototype.executeInternal_/h (file:///c:/users/george/appdata/local/temp/tmpvkqyi5/extensions/fxdriver@googlecode.com/components/command-processor.js:12534)\n",
      "    at DelayedCommand.prototype.executeInternal_ (file:///c:/users/george/appdata/local/temp/tmpvkqyi5/extensions/fxdriver@googlecode.com/components/command-processor.js:12539)\n",
      "    at DelayedCommand.prototype.execute/< (file:///c:/users/george/appdata/local/temp/tmpvkqyi5/extensions/fxdriver@googlecode.com/components/command-processor.js:12481)\n",
      "187\n"
     ]
    }
   ],
   "source": [
    "links = []\n",
    "\n",
    "while True:\n",
    "    src = browser.page_source\n",
    "    soup = BeautifulSoup(src, \"html.parser\")\n",
    "    \n",
    "    for tag in soup.find_all('strong'):\n",
    "        linkbox = tag.find('a')\n",
    "        if linkbox:\n",
    "            links.append(linkbox['href'])\n",
    "    try:\n",
    "        nextresults = browser.find_element_by_link_text('Next Page')\n",
    "        nextresults.click()\n",
    "        time.sleep(1)\n",
    "    except Exception, e:\n",
    "        print \"End of results\"\n",
    "        print \"=====================================\"\n",
    "        print e\n",
    "        break\n",
    "\n",
    "# remove duplicates\n",
    "links = list(set(links))\n",
    "print len(links)"
   ]
  },
  {
   "cell_type": "markdown",
   "metadata": {},
   "source": [
    "We save the links that we found."
   ]
  },
  {
   "cell_type": "code",
   "execution_count": 10,
   "metadata": {
    "collapsed": false
   },
   "outputs": [],
   "source": [
    "import pickle\n",
    "pickle.dump(links, open(\"mins_links.p\", \"wb\"))"
   ]
  },
  {
   "cell_type": "code",
   "execution_count": 11,
   "metadata": {
    "collapsed": true
   },
   "outputs": [],
   "source": [
    "import pickle\n",
    "links = pickle.load(open(\"mins_links.p\", \"rb\"))"
   ]
  },
  {
   "cell_type": "code",
   "execution_count": 12,
   "metadata": {
    "collapsed": false
   },
   "outputs": [
    {
     "data": {
      "text/plain": [
       "187"
      ]
     },
     "execution_count": 12,
     "metadata": {},
     "output_type": "execute_result"
    }
   ],
   "source": [
    "len(links)"
   ]
  },
  {
   "cell_type": "markdown",
   "metadata": {
    "collapsed": true
   },
   "source": [
    "## Using requests"
   ]
  },
  {
   "cell_type": "markdown",
   "metadata": {},
   "source": [
    "This approach for obtaining the links cannot be used as easily since Javacript used on the FOMC site makes tag selection difficult. \n",
    "Attempting to find strong results in no urls being found. \n",
    "\n",
    "\n",
    "However, given the links that we found above, we can still use requests to obtain the page contents."
   ]
  },
  {
   "cell_type": "code",
   "execution_count": 8,
   "metadata": {
    "collapsed": true
   },
   "outputs": [],
   "source": [
    "from requests.exceptions import ConnectionError\n",
    "\n",
    "fomc_mins = {}"
   ]
  },
  {
   "cell_type": "code",
   "execution_count": 9,
   "metadata": {
    "collapsed": false,
    "scrolled": true
   },
   "outputs": [
    {
     "name": "stdout",
     "output_type": "stream",
     "text": [
      "Finished getting page sources\n"
     ]
    }
   ],
   "source": [
    "# this code block can be run multiple times--we check for duplicates\n",
    "searched_urls = fomc_mins.keys()\n",
    "\n",
    "for url in links:\n",
    "    if url not in searched_urls and url[-3:] == \"htm\":\n",
    "        try:\n",
    "            page = requests.get(url)\n",
    "            fomc_mins[url] = page.text\n",
    "        except ConnectionError as e:\n",
    "            print \"Error ==> \", e, \"for\", date\n",
    "\n",
    "        time.sleep(1)\n",
    "\n",
    "print \"Finished getting page sources\""
   ]
  },
  {
   "cell_type": "markdown",
   "metadata": {},
   "source": [
    "We store our page sources a dictionary indexed by the FOMC minutes url."
   ]
  },
  {
   "cell_type": "code",
   "execution_count": 13,
   "metadata": {
    "collapsed": false
   },
   "outputs": [],
   "source": [
    "import json\n",
    "\n",
    "mins_html = open(\"fomc_mins_all.json\", \"wb\")\n",
    "json.dump(fomc_mins, mins_html)\n",
    "mins_html.close()"
   ]
  },
  {
   "cell_type": "code",
   "execution_count": 14,
   "metadata": {
    "collapsed": false
   },
   "outputs": [],
   "source": [
    "import json\n",
    "\n",
    "with open(\"fomc_mins_all.json\", \"rb\") as infile:\n",
    "    fomc_mins_all = json.load(infile)"
   ]
  },
  {
   "cell_type": "code",
   "execution_count": 15,
   "metadata": {
    "collapsed": false
   },
   "outputs": [
    {
     "data": {
      "text/plain": [
       "183"
      ]
     },
     "execution_count": 15,
     "metadata": {},
     "output_type": "execute_result"
    }
   ],
   "source": [
    "len(fomc_mins_all)"
   ]
  },
  {
   "cell_type": "code",
   "execution_count": null,
   "metadata": {
    "collapsed": true
   },
   "outputs": [],
   "source": []
  }
 ],
 "metadata": {
  "kernelspec": {
   "display_name": "Python 2",
   "language": "python",
   "name": "python2"
  },
  "language_info": {
   "codemirror_mode": {
    "name": "ipython",
    "version": 2
   },
   "file_extension": ".py",
   "mimetype": "text/x-python",
   "name": "python",
   "nbconvert_exporter": "python",
   "pygments_lexer": "ipython2",
   "version": "2.7.10"
  }
 },
 "nbformat": 4,
 "nbformat_minor": 0
}
