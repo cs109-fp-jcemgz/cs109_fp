{
 "cells": [
  {
   "cell_type": "code",
   "execution_count": 3,
   "metadata": {
    "collapsed": false
   },
   "outputs": [],
   "source": [
    "%matplotlib inline\n",
    "import numpy as np\n",
    "import scipy as sp\n",
    "import matplotlib as mpl\n",
    "import matplotlib.pyplot as plt\n",
    "import pandas as pd\n",
    "import seaborn as sns"
   ]
  },
  {
   "cell_type": "code",
   "execution_count": 4,
   "metadata": {
    "collapsed": true
   },
   "outputs": [],
   "source": [
    "from pyquery import PyQuery as pq\n",
    "from bs4 import BeautifulSoup\n",
    "import re\n",
    "import requests"
   ]
  },
  {
   "cell_type": "code",
   "execution_count": 3,
   "metadata": {
    "collapsed": true
   },
   "outputs": [],
   "source": [
    "m2015jan = requests.get(\"http://www.federalreserve.gov/monetarypolicy/fomcminutes20150128.htm\")"
   ]
  },
  {
   "cell_type": "markdown",
   "metadata": {},
   "source": [
    "# PyQuery \n",
    "\n",
    "Getting features and dividing structure from a single page"
   ]
  },
  {
   "cell_type": "code",
   "execution_count": 4,
   "metadata": {
    "collapsed": false
   },
   "outputs": [
    {
     "data": {
      "text/plain": [
       "17"
      ]
     },
     "execution_count": 4,
     "metadata": {},
     "output_type": "execute_result"
    }
   ],
   "source": [
    "d_ = pq(m2015jan.text)\n",
    "d_rows = pq(d_('strong'))\n",
    "len(d_rows)"
   ]
  },
  {
   "cell_type": "code",
   "execution_count": 5,
   "metadata": {
    "collapsed": false
   },
   "outputs": [
    {
     "data": {
      "text/plain": [
       "['Annual Organizational Matters', <Element a at 0x1f1ab0e8>, <Element a at 0x1f1ab138>, ' ', \"Developments in Financial Markets and the Federal Reserve's Balance Sheet\", '-', 'Liftoff Tools and Possible Liftoff Options', 'Staff Review of the Economic Situation', 'Staff Review of the Financial Situation', 'Staff Economic Outlook', \"Participants' Views on Current Conditions and the Economic Outlook\", \"Participants' Discussion of Policy Planning\", ' ', 'Committee Policy Action', 'Voting for this action:', 'Voting against this action: ', 'Notation Vote', 'Thomas Laubach', 'Secretary']"
      ]
     },
     "execution_count": 5,
     "metadata": {},
     "output_type": "execute_result"
    }
   ],
   "source": [
    "d_rows.contents()"
   ]
  },
  {
   "cell_type": "markdown",
   "metadata": {},
   "source": [
    "# BeautifulSoup\n",
    "\n",
    "Getting features and dividing structure from a single page"
   ]
  },
  {
   "cell_type": "code",
   "execution_count": 6,
   "metadata": {
    "collapsed": false
   },
   "outputs": [
    {
     "data": {
      "text/plain": [
       "u'Annual Organizational Matters5\\xa0'"
      ]
     },
     "execution_count": 6,
     "metadata": {},
     "output_type": "execute_result"
    }
   ],
   "source": [
    "soup = BeautifulSoup(m2015jan.text, \"html.parser\")\n",
    "sections = soup.find_all('strong')\n",
    "sections[0].text"
   ]
  },
  {
   "cell_type": "markdown",
   "metadata": {},
   "source": [
    "# All FOMC minutes"
   ]
  },
  {
   "cell_type": "code",
   "execution_count": 7,
   "metadata": {
    "collapsed": true
   },
   "outputs": [],
   "source": [
    "fomc_base_url = \"http://www.federalreserve.gov\""
   ]
  },
  {
   "cell_type": "code",
   "execution_count": 8,
   "metadata": {
    "collapsed": false
   },
   "outputs": [],
   "source": [
    "# find all meeting minutes\n",
    "allmin = requests.get(\"http://www.federalreserve.gov/monetarypolicy/fomccalendars.htm\")\n",
    "allminsoup = BeautifulSoup(allmin.text, \"html.parser\")\n",
    "dates = allminsoup.find_all('td', attrs={'class': 'minutes'})\n",
    "\n",
    "# get urls of meeting minutes\n",
    "page_urls = [date.find('a', text=\"HTML\") for date in dates]\n",
    "page_urls = filter(lambda x: x, page_urls)\n",
    "page_urls = [p['href'] for p in page_urls]"
   ]
  },
  {
   "cell_type": "code",
   "execution_count": 9,
   "metadata": {
    "collapsed": false
   },
   "outputs": [
    {
     "name": "stdout",
     "output_type": "stream",
     "text": [
      "47\n"
     ]
    },
    {
     "data": {
      "text/plain": [
       "[u'/monetarypolicy/fomcminutes20150128.htm',\n",
       " u'/monetarypolicy/fomcminutes20150318.htm',\n",
       " u'/monetarypolicy/fomcminutes20150429.htm',\n",
       " u'/monetarypolicy/fomcminutes20150617.htm',\n",
       " u'/monetarypolicy/fomcminutes20150729.htm']"
      ]
     },
     "execution_count": 9,
     "metadata": {},
     "output_type": "execute_result"
    }
   ],
   "source": [
    "# should have 47 urls to get\n",
    "print len(page_urls)\n",
    "page_urls[0:5]"
   ]
  },
  {
   "cell_type": "code",
   "execution_count": 10,
   "metadata": {
    "collapsed": true
   },
   "outputs": [],
   "source": [
    "import time\n",
    "from requests.exceptions import ConnectionError\n",
    "\n",
    "fomc_mins = {}"
   ]
  },
  {
   "cell_type": "code",
   "execution_count": 17,
   "metadata": {
    "collapsed": false
   },
   "outputs": [],
   "source": [
    "# may need to run this block multiple times\n",
    "searched_dates = fomc_mins.keys()\n",
    "\n",
    "for p in page_urls:\n",
    "    url = fomc_base_url + p\n",
    "    date = p[-12:-4]\n",
    "    \n",
    "    if date not in searched_dates:\n",
    "        try:\n",
    "            page = requests.get(url)\n",
    "            fomc_mins[date] = page.text\n",
    "        except ConnectionError as e:\n",
    "            print \"Error ==> \", e, \"for\", date\n",
    "    \n",
    "        time.sleep(1)"
   ]
  },
  {
   "cell_type": "code",
   "execution_count": 18,
   "metadata": {
    "collapsed": false
   },
   "outputs": [
    {
     "data": {
      "text/plain": [
       "47"
      ]
     },
     "execution_count": 18,
     "metadata": {},
     "output_type": "execute_result"
    }
   ],
   "source": [
    "# should have 47 meeting minutes\n",
    "len(fomc_mins.keys())"
   ]
  },
  {
   "cell_type": "code",
   "execution_count": 303,
   "metadata": {
    "collapsed": false,
    "scrolled": true
   },
   "outputs": [],
   "source": [
    "import json\n",
    "\"\"\"\n",
    "# store the scraped minutes html\n",
    "mins_html = open(\"fomc_mins.json\", \"wb\")\n",
    "json.dump(mins_text, mins_html)\n",
    "mins_html.close()\n",
    "\"\"\""
   ]
  },
  {
   "cell_type": "code",
   "execution_count": 304,
   "metadata": {
    "collapsed": true
   },
   "outputs": [],
   "source": [
    "# open scraped minutes\n",
    "with open(\"fomc_mins.json\", \"rb\") as infile:\n",
    "    fomc_mins = json.load(infile)"
   ]
  },
  {
   "cell_type": "markdown",
   "metadata": {
    "collapsed": true
   },
   "source": [
    "## Minutes before 2009"
   ]
  },
  {
   "cell_type": "code",
   "execution_count": null,
   "metadata": {
    "collapsed": true
   },
   "outputs": [],
   "source": []
  }
 ],
 "metadata": {
  "kernelspec": {
   "display_name": "Python 2",
   "language": "python",
   "name": "python2"
  },
  "language_info": {
   "codemirror_mode": {
    "name": "ipython",
    "version": 2
   },
   "file_extension": ".py",
   "mimetype": "text/x-python",
   "name": "python",
   "nbconvert_exporter": "python",
   "pygments_lexer": "ipython2",
   "version": "2.7.10"
  }
 },
 "nbformat": 4,
 "nbformat_minor": 0
}
