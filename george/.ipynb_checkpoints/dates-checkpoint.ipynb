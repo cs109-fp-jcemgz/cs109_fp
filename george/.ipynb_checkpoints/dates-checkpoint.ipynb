{
 "cells": [
  {
   "cell_type": "code",
   "execution_count": 1,
   "metadata": {
    "collapsed": false
   },
   "outputs": [],
   "source": [
    "import pickle\n",
    "links = pickle.load(open(\"mins_links.p\", \"rb\"))"
   ]
  },
  {
   "cell_type": "code",
   "execution_count": 2,
   "metadata": {
    "collapsed": false
   },
   "outputs": [],
   "source": [
    "import re\n",
    "alldates = []\n",
    "for link in links:\n",
    "    date = re.sub(\"[^0-9]\", \"\", link)\n",
    "    if len(date) != 8:\n",
    "        date = date[4:]\n",
    "    year = int(date[:4])\n",
    "    month = int(date[4:-2])\n",
    "    day = int(date[6:])\n",
    "    datedict = {\"year\":year, \"month\":month, \"day\":day}\n",
    "#     print datedict[\"year\"]\n",
    "    alldates.append(datedict)"
   ]
  },
  {
   "cell_type": "code",
   "execution_count": 3,
   "metadata": {
    "collapsed": false
   },
   "outputs": [],
   "source": [
    "pickle.dump(alldates, open(\"dates.p\", \"wb\"))"
   ]
  },
  {
   "cell_type": "code",
   "execution_count": null,
   "metadata": {
    "collapsed": true
   },
   "outputs": [],
   "source": []
  }
 ],
 "metadata": {
  "kernelspec": {
   "display_name": "Python 2",
   "language": "python",
   "name": "python2"
  },
  "language_info": {
   "codemirror_mode": {
    "name": "ipython",
    "version": 2
   },
   "file_extension": ".py",
   "mimetype": "text/x-python",
   "name": "python",
   "nbconvert_exporter": "python",
   "pygments_lexer": "ipython2",
   "version": "2.7.10"
  }
 },
 "nbformat": 4,
 "nbformat_minor": 0
}
